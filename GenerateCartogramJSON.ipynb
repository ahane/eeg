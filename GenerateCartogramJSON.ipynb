{
 "metadata": {
  "name": "",
  "signature": "sha256:fb7ae9d0df8cea58dd5175d893878ff74a582e82f1a9331c38dcaecbfa6f53d5"
 },
 "nbformat": 3,
 "nbformat_minor": 0,
 "worksheets": [
  {
   "cells": [
    {
     "cell_type": "code",
     "collapsed": false,
     "input": [
      "import pandas as pd\n",
      "import numpy as np\n",
      "from pandas import DataFrame"
     ],
     "language": "python",
     "metadata": {},
     "outputs": [],
     "prompt_number": 16
    },
    {
     "cell_type": "code",
     "collapsed": false,
     "input": [
      "import pickle\n",
      "with open('all_pv.df.pick', 'r') as f:\n",
      "    all_pv = pickle.load(f)"
     ],
     "language": "python",
     "metadata": {},
     "outputs": [],
     "prompt_number": 8
    },
    {
     "cell_type": "code",
     "collapsed": false,
     "input": [
      "yearly_by_state = all_pv[['kw', 'state', 'year']].groupby(['state', 'year'])"
     ],
     "language": "python",
     "metadata": {},
     "outputs": [],
     "prompt_number": 13
    },
    {
     "cell_type": "code",
     "collapsed": false,
     "input": [
      "kw_and_count = yearly_by_state.aggregate([np.sum, len])\n",
      "kw_and_count.columns = ['kw', 'count']"
     ],
     "language": "python",
     "metadata": {},
     "outputs": [],
     "prompt_number": 36
    },
    {
     "cell_type": "code",
     "collapsed": false,
     "input": [
      "totals = all_pv[['kw', 'state']].groupby(['state']).aggregate([np.sum, len])\n",
      "totals.columns = ['kw', 'count']"
     ],
     "language": "python",
     "metadata": {},
     "outputs": [],
     "prompt_number": 50
    },
    {
     "cell_type": "code",
     "collapsed": false,
     "input": [
      "totals.to_csv('totals_pv_by_state.csv', encoding='utf-8')"
     ],
     "language": "python",
     "metadata": {},
     "outputs": [],
     "prompt_number": 66
    },
    {
     "cell_type": "code",
     "collapsed": false,
     "input": [
      "data = {}\n",
      "for year in kw_and_count.index.levels[1]:\n",
      "    curr_year = data[year] = []\n",
      "    for state in kw_and_count.index.levels[0]:\n",
      "        kw = kw_and_count.ix[state, year]['kw']\n",
      "        count = kw_and_count.ix[state, year]['count']\n",
      "        curr_year.append({'state': state, 'kw': kw, 'count': count})"
     ],
     "language": "python",
     "metadata": {},
     "outputs": [],
     "prompt_number": 68
    },
    {
     "cell_type": "code",
     "collapsed": false,
     "input": [
      "totals_dict = []\n",
      "for state, kw, count in totals.itertuples():\n",
      "    totals_dict.append({'state': state, 'kw': kw, 'count': count})"
     ],
     "language": "python",
     "metadata": {},
     "outputs": [],
     "prompt_number": 69
    },
    {
     "cell_type": "code",
     "collapsed": false,
     "input": [
      "data['total'] = totals_dict"
     ],
     "language": "python",
     "metadata": {},
     "outputs": [],
     "prompt_number": 71
    },
    {
     "cell_type": "code",
     "collapsed": false,
     "input": [
      "import json"
     ],
     "language": "python",
     "metadata": {},
     "outputs": [],
     "prompt_number": 59
    },
    {
     "cell_type": "code",
     "collapsed": false,
     "input": [
      "with open('carto_data.json', 'w') as f:\n",
      "    json.dump(data, f)"
     ],
     "language": "python",
     "metadata": {},
     "outputs": [],
     "prompt_number": 72
    },
    {
     "cell_type": "code",
     "collapsed": false,
     "input": [
      "!cp carto_data.json ../../../workspace/gis/solaratlas/data/"
     ],
     "language": "python",
     "metadata": {},
     "outputs": [],
     "prompt_number": 73
    },
    {
     "cell_type": "code",
     "collapsed": false,
     "input": [],
     "language": "python",
     "metadata": {},
     "outputs": []
    }
   ],
   "metadata": {}
  }
 ]
}