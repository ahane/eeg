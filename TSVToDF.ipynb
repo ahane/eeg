{
 "metadata": {
  "name": "",
  "signature": "sha256:6d45171a14c9404e346f6202f1c7f68ef3a129b5ca09030d4a0d20a0c4188867"
 },
 "nbformat": 3,
 "nbformat_minor": 0,
 "worksheets": [
  {
   "cells": [
    {
     "cell_type": "code",
     "collapsed": false,
     "input": [
      "import pandas as pd\n",
      "from pandas import DataFrame, Series\n",
      "import numpy as np\n",
      "from matplotlib import pyplot as plt\n",
      "from datetime import datetime\n",
      "import datetime as dt"
     ],
     "language": "python",
     "metadata": {},
     "outputs": [],
     "prompt_number": 13
    },
    {
     "cell_type": "code",
     "collapsed": false,
     "input": [
      "import unicodecsv as csv"
     ],
     "language": "python",
     "metadata": {},
     "outputs": [],
     "prompt_number": 6
    },
    {
     "cell_type": "code",
     "collapsed": false,
     "input": [
      "with open('alle_pv_meldungen.tsv', 'r') as f:\n",
      "    reader = csv.reader(f, dialect='excel-tab')\n",
      "    all_pv_tups = list(reader)"
     ],
     "language": "python",
     "metadata": {},
     "outputs": [],
     "prompt_number": 7
    },
    {
     "cell_type": "code",
     "collapsed": false,
     "input": [
      "cols = ['year', 'month', 'day', 'plz', 'place', 'state', 'kw']\n",
      "all_pv = DataFrame(all_pv_tups, columns=cols, dtype=np.str)"
     ],
     "language": "python",
     "metadata": {},
     "outputs": [],
     "prompt_number": 9
    },
    {
     "cell_type": "code",
     "collapsed": false,
     "input": [
      "all_pv['year'] = all_pv['year'].apply(np.int)\n",
      "all_pv['month'] = all_pv['month'].apply(np.int)\n",
      "all_pv['day'] = all_pv['day'].apply(np.int)\n",
      "all_pv['kw'] = all_pv['kw'].apply(np.float64)"
     ],
     "language": "python",
     "metadata": {},
     "outputs": [],
     "prompt_number": 10
    },
    {
     "cell_type": "code",
     "collapsed": false,
     "input": [
      "all_pv['date'] = all_pv.apply(lambda row: datetime(row['year'], row['month'], row['day']), axis=1)"
     ],
     "language": "python",
     "metadata": {},
     "outputs": [],
     "prompt_number": 14
    },
    {
     "cell_type": "code",
     "collapsed": false,
     "input": [
      "import pickle\n",
      "with open('all_pv.df.pick', 'w') as f:\n",
      "    pickle.dump(all_pv, f)"
     ],
     "language": "python",
     "metadata": {},
     "outputs": [],
     "prompt_number": 16
    },
    {
     "cell_type": "code",
     "collapsed": false,
     "input": [],
     "language": "python",
     "metadata": {},
     "outputs": []
    }
   ],
   "metadata": {}
  }
 ]
}