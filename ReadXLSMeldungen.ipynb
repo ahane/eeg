{
 "metadata": {
  "name": "",
  "signature": "sha256:62ea3162aa34008f8833db73f465ebdde3ed0cad7ab50e94c06573f4f7924b47"
 },
 "nbformat": 3,
 "nbformat_minor": 0,
 "worksheets": [
  {
   "cells": [
    {
     "cell_type": "code",
     "collapsed": false,
     "input": [
      "import xlrd\n",
      "import os"
     ],
     "language": "python",
     "metadata": {},
     "outputs": [],
     "prompt_number": 111
    },
    {
     "cell_type": "code",
     "collapsed": false,
     "input": [
      "alle_meldungen = [os.path.join('pvmeldungen/', f) for f in listdir('pvmeldungen/')]"
     ],
     "language": "python",
     "metadata": {},
     "outputs": [],
     "prompt_number": 112
    },
    {
     "cell_type": "code",
     "collapsed": false,
     "input": [
      "alle_meldungen"
     ],
     "language": "python",
     "metadata": {},
     "outputs": [
      {
       "metadata": {},
       "output_type": "pyout",
       "prompt_number": 113,
       "text": [
        "['pvmeldungen/Meldungen_2014_01-06.xls',\n",
        " 'pvmeldungen/MeldungenJanSept2009_Id17481xls.xls',\n",
        " 'pvmeldungen/Meldungen_JuniSept2011xls.xls',\n",
        " 'pvmeldungen/Meldungen_Dez2011xls.xls',\n",
        " 'pvmeldungen/Meldungen_JanDez2012.xls',\n",
        " 'pvmeldungen/Meldungen_JanMaii2010xls.xls',\n",
        " 'pvmeldungen/Meldungen_OktNov2011xls.xls',\n",
        " 'pvmeldungen/Meldungen_JuniSept2010xls.xls',\n",
        " 'pvmeldungen/MeldungenOktDez2009xls.xls',\n",
        " 'pvmeldungen/Meldungen_JanDez2013.xls',\n",
        " 'pvmeldungen/Meldungen_JanMai2011xls.xls',\n",
        " 'pvmeldungen/Meldungen_OktDez2010xls.xls']"
       ]
      }
     ],
     "prompt_number": 113
    },
    {
     "cell_type": "code",
     "collapsed": false,
     "input": [
      "rows_to_csv(files_to_rows(alle_meldungen))"
     ],
     "language": "python",
     "metadata": {},
     "outputs": [
      {
       "output_type": "stream",
       "stream": "stdout",
       "text": [
        "[]\n",
        "Current Sheet: Januar 2014\n",
        "Current Sheet: Februar 2014"
       ]
      },
      {
       "output_type": "stream",
       "stream": "stdout",
       "text": [
        "\n",
        "Current Sheet: M\u00e4rz 2014"
       ]
      },
      {
       "output_type": "stream",
       "stream": "stdout",
       "text": [
        "\n",
        "Current Sheet: April 2014"
       ]
      },
      {
       "output_type": "stream",
       "stream": "stdout",
       "text": [
        "\n",
        "Current Sheet: Mai 2014"
       ]
      },
      {
       "output_type": "stream",
       "stream": "stdout",
       "text": [
        "\n",
        "Current Sheet: Juni 2014"
       ]
      },
      {
       "output_type": "stream",
       "stream": "stdout",
       "text": [
        "\n",
        "[u'Januar 2014', u'Februar 2014', u'M\\xe4rz 2014', u'April 2014', u'Mai 2014', u'Juni 2014']"
       ]
      },
      {
       "output_type": "stream",
       "stream": "stdout",
       "text": [
        "\n",
        "Current Sheet: Januar 2009\n",
        "Current Sheet: Februar 2009\n",
        "Current Sheet: M\u00e4rz 2009"
       ]
      },
      {
       "output_type": "stream",
       "stream": "stdout",
       "text": [
        "\n",
        "Current Sheet: April 2009"
       ]
      },
      {
       "output_type": "stream",
       "stream": "stdout",
       "text": [
        "\n",
        "Current Sheet: Mai 2009"
       ]
      },
      {
       "output_type": "stream",
       "stream": "stdout",
       "text": [
        "\n",
        "Current Sheet: Juni 2009"
       ]
      },
      {
       "output_type": "stream",
       "stream": "stdout",
       "text": [
        "\n",
        "Current Sheet: Juli 2009"
       ]
      },
      {
       "output_type": "stream",
       "stream": "stdout",
       "text": [
        "\n",
        "Current Sheet: August 2009"
       ]
      },
      {
       "output_type": "stream",
       "stream": "stdout",
       "text": [
        "\n",
        "Current Sheet: September 2009"
       ]
      },
      {
       "output_type": "stream",
       "stream": "stdout",
       "text": [
        "\n",
        "[u'Januar 2014', u'Februar 2014', u'M\\xe4rz 2014', u'April 2014', u'Mai 2014', u'Juni 2014', u'Januar 2009', u'Februar 2009', u'M\\xe4rz 2009', u'April 2009', u'Mai 2009', u'Juni 2009', u'Juli 2009', u'August 2009', u'September 2009']"
       ]
      },
      {
       "output_type": "stream",
       "stream": "stdout",
       "text": [
        "\n",
        "Current Sheet: Juni2011\n",
        "Current Sheet: Juli2011"
       ]
      },
      {
       "output_type": "stream",
       "stream": "stdout",
       "text": [
        "\n",
        "Current Sheet: August2011"
       ]
      },
      {
       "output_type": "stream",
       "stream": "stdout",
       "text": [
        "\n",
        "Current Sheet: September2011"
       ]
      },
      {
       "output_type": "stream",
       "stream": "stdout",
       "text": [
        "\n",
        "[u'Januar 2014', u'Februar 2014', u'M\\xe4rz 2014', u'April 2014', u'Mai 2014', u'Juni 2014', u'Januar 2009', u'Februar 2009', u'M\\xe4rz 2009', u'April 2009', u'Mai 2009', u'Juni 2009', u'Juli 2009', u'August 2009', u'September 2009', u'Juni2011', u'Juli2011', u'August2011', u'September2011']"
       ]
      },
      {
       "output_type": "stream",
       "stream": "stdout",
       "text": [
        "\n",
        "Current Sheet: Dezember2011\n",
        "non-num plz:  67292,"
       ]
      },
      {
       "output_type": "stream",
       "stream": "stdout",
       "text": [
        "\n",
        "[u'Januar 2014', u'Februar 2014', u'M\\xe4rz 2014', u'April 2014', u'Mai 2014', u'Juni 2014', u'Januar 2009', u'Februar 2009', u'M\\xe4rz 2009', u'April 2009', u'Mai 2009', u'Juni 2009', u'Juli 2009', u'August 2009', u'September 2009', u'Juni2011', u'Juli2011', u'August2011', u'September2011', u'Dezember2011']"
       ]
      },
      {
       "output_type": "stream",
       "stream": "stdout",
       "text": [
        "\n",
        "Current Sheet: Januar 2012\n",
        "Current Sheet: Februar 2012"
       ]
      },
      {
       "output_type": "stream",
       "stream": "stdout",
       "text": [
        "\n",
        "Current Sheet: M\u00e4rz 2012"
       ]
      },
      {
       "output_type": "stream",
       "stream": "stdout",
       "text": [
        "\n",
        "Current Sheet: April 2012"
       ]
      },
      {
       "output_type": "stream",
       "stream": "stdout",
       "text": [
        "\n",
        "Current Sheet: Mai 2012"
       ]
      },
      {
       "output_type": "stream",
       "stream": "stdout",
       "text": [
        "\n",
        "Current Sheet: Juni 2012"
       ]
      },
      {
       "output_type": "stream",
       "stream": "stdout",
       "text": [
        "\n",
        "Current Sheet: Juli 2012"
       ]
      },
      {
       "output_type": "stream",
       "stream": "stdout",
       "text": [
        "\n",
        "Current Sheet: August 2012"
       ]
      },
      {
       "output_type": "stream",
       "stream": "stdout",
       "text": [
        "\n",
        "Current Sheet: September 2012"
       ]
      },
      {
       "output_type": "stream",
       "stream": "stdout",
       "text": [
        "\n",
        "Current Sheet: Oktober 2012"
       ]
      },
      {
       "output_type": "stream",
       "stream": "stdout",
       "text": [
        "\n",
        "Current Sheet: November 2012"
       ]
      },
      {
       "output_type": "stream",
       "stream": "stdout",
       "text": [
        "\n",
        "Current Sheet: Dezember 2012"
       ]
      },
      {
       "output_type": "stream",
       "stream": "stdout",
       "text": [
        "\n",
        "[u'Januar 2014', u'Februar 2014', u'M\\xe4rz 2014', u'April 2014', u'Mai 2014', u'Juni 2014', u'Januar 2009', u'Februar 2009', u'M\\xe4rz 2009', u'April 2009', u'Mai 2009', u'Juni 2009', u'Juli 2009', u'August 2009', u'September 2009', u'Juni2011', u'Juli2011', u'August2011', u'September2011', u'Dezember2011', u'Januar 2012', u'Februar 2012', u'M\\xe4rz 2012', u'April 2012', u'Mai 2012', u'Juni 2012', u'Juli 2012', u'August 2012', u'September 2012', u'Oktober 2012', u'November 2012', u'Dezember 2012']"
       ]
      },
      {
       "output_type": "stream",
       "stream": "stdout",
       "text": [
        "\n",
        "Current Sheet: Januar 2010\n",
        "Current Sheet: Februar 2010"
       ]
      },
      {
       "output_type": "stream",
       "stream": "stdout",
       "text": [
        "\n",
        "Current Sheet: M\u00e4rz 2010"
       ]
      },
      {
       "output_type": "stream",
       "stream": "stdout",
       "text": [
        "\n",
        "Current Sheet: April 2010"
       ]
      },
      {
       "output_type": "stream",
       "stream": "stdout",
       "text": [
        "\n",
        "non-num plz:  47669,\n",
        "non-num plz:  87757,"
       ]
      },
      {
       "output_type": "stream",
       "stream": "stdout",
       "text": [
        "\n",
        "Current Sheet: Mai 2010"
       ]
      },
      {
       "output_type": "stream",
       "stream": "stdout",
       "text": [
        "\n",
        "[u'Januar 2014', u'Februar 2014', u'M\\xe4rz 2014', u'April 2014', u'Mai 2014', u'Juni 2014', u'Januar 2009', u'Februar 2009', u'M\\xe4rz 2009', u'April 2009', u'Mai 2009', u'Juni 2009', u'Juli 2009', u'August 2009', u'September 2009', u'Juni2011', u'Juli2011', u'August2011', u'September2011', u'Dezember2011', u'Januar 2012', u'Februar 2012', u'M\\xe4rz 2012', u'April 2012', u'Mai 2012', u'Juni 2012', u'Juli 2012', u'August 2012', u'September 2012', u'Oktober 2012', u'November 2012', u'Dezember 2012', u'Januar 2010', u'Februar 2010', u'M\\xe4rz 2010', u'April 2010', u'Mai 2010']"
       ]
      },
      {
       "output_type": "stream",
       "stream": "stdout",
       "text": [
        "\n",
        "Current Sheet: Oktober2011\n",
        "non-num plz:  34286,"
       ]
      },
      {
       "output_type": "stream",
       "stream": "stdout",
       "text": [
        "\n",
        "non-num plz:  78549S"
       ]
      },
      {
       "output_type": "stream",
       "stream": "stdout",
       "text": [
        "\n",
        "Current Sheet: November2011\n",
        "[u'Januar 2014', u'Februar 2014', u'M\\xe4rz 2014', u'April 2014', u'Mai 2014', u'Juni 2014', u'Januar 2009', u'Februar 2009', u'M\\xe4rz 2009', u'April 2009', u'Mai 2009', u'Juni 2009', u'Juli 2009', u'August 2009', u'September 2009', u'Juni2011', u'Juli2011', u'August2011', u'September2011', u'Dezember2011', u'Januar 2012', u'Februar 2012', u'M\\xe4rz 2012', u'April 2012', u'Mai 2012', u'Juni 2012', u'Juli 2012', u'August 2012', u'September 2012', u'Oktober 2012', u'November 2012', u'Dezember 2012', u'Januar 2010', u'Februar 2010', u'M\\xe4rz 2010', u'April 2010', u'Mai 2010', u'Oktober2011', u'November2011']"
       ]
      },
      {
       "output_type": "stream",
       "stream": "stdout",
       "text": [
        "\n",
        "Current Sheet: Juni 2010\n",
        "Current Sheet: Juli 2010"
       ]
      },
      {
       "output_type": "stream",
       "stream": "stdout",
       "text": [
        "\n",
        "non-num plz:  75050,"
       ]
      },
      {
       "output_type": "stream",
       "stream": "stdout",
       "text": [
        "\n",
        "non-num plz:  86738f"
       ]
      },
      {
       "output_type": "stream",
       "stream": "stdout",
       "text": [
        "\n",
        "Current Sheet: August 2010"
       ]
      },
      {
       "output_type": "stream",
       "stream": "stdout",
       "text": [
        "\n",
        "Current Sheet: September 2010_aktualisiert"
       ]
      },
      {
       "output_type": "stream",
       "stream": "stdout",
       "text": [
        "\n",
        "non-num plz:  32351#"
       ]
      },
      {
       "output_type": "stream",
       "stream": "stdout",
       "text": [
        "\n",
        "non-num plz:  91602,"
       ]
      },
      {
       "output_type": "stream",
       "stream": "stdout",
       "text": [
        "\n",
        "non-num plz:  48431+B504"
       ]
      },
      {
       "output_type": "stream",
       "stream": "stdout",
       "text": [
        "\n",
        "[u'Januar 2014', u'Februar 2014', u'M\\xe4rz 2014', u'April 2014', u'Mai 2014', u'Juni 2014', u'Januar 2009', u'Februar 2009', u'M\\xe4rz 2009', u'April 2009', u'Mai 2009', u'Juni 2009', u'Juli 2009', u'August 2009', u'September 2009', u'Juni2011', u'Juli2011', u'August2011', u'September2011', u'Dezember2011', u'Januar 2012', u'Februar 2012', u'M\\xe4rz 2012', u'April 2012', u'Mai 2012', u'Juni 2012', u'Juli 2012', u'August 2012', u'September 2012', u'Oktober 2012', u'November 2012', u'Dezember 2012', u'Januar 2010', u'Februar 2010', u'M\\xe4rz 2010', u'April 2010', u'Mai 2010', u'Oktober2011', u'November2011', u'Juni 2010', u'Juli 2010', u'August 2010', u'September 2010_aktualisiert']"
       ]
      },
      {
       "output_type": "stream",
       "stream": "stdout",
       "text": [
        "\n",
        "Current Sheet: Oktober 2009\n",
        "non-num plz:  09212,"
       ]
      },
      {
       "output_type": "stream",
       "stream": "stdout",
       "text": [
        "\n",
        "Current Sheet: November 2009"
       ]
      },
      {
       "output_type": "stream",
       "stream": "stdout",
       "text": [
        "\n",
        "Current Sheet: Dezember 2009"
       ]
      },
      {
       "output_type": "stream",
       "stream": "stdout",
       "text": [
        "\n",
        "non-num plz:  46459#"
       ]
      },
      {
       "output_type": "stream",
       "stream": "stdout",
       "text": [
        "\n",
        "[u'Januar 2014', u'Februar 2014', u'M\\xe4rz 2014', u'April 2014', u'Mai 2014', u'Juni 2014', u'Januar 2009', u'Februar 2009', u'M\\xe4rz 2009', u'April 2009', u'Mai 2009', u'Juni 2009', u'Juli 2009', u'August 2009', u'September 2009', u'Juni2011', u'Juli2011', u'August2011', u'September2011', u'Dezember2011', u'Januar 2012', u'Februar 2012', u'M\\xe4rz 2012', u'April 2012', u'Mai 2012', u'Juni 2012', u'Juli 2012', u'August 2012', u'September 2012', u'Oktober 2012', u'November 2012', u'Dezember 2012', u'Januar 2010', u'Februar 2010', u'M\\xe4rz 2010', u'April 2010', u'Mai 2010', u'Oktober2011', u'November2011', u'Juni 2010', u'Juli 2010', u'August 2010', u'September 2010_aktualisiert', u'Oktober 2009', u'November 2009', u'Dezember 2009']"
       ]
      },
      {
       "output_type": "stream",
       "stream": "stdout",
       "text": [
        "\n",
        "Current Sheet: Januar 2013\n",
        "Current Sheet: Februar 2013"
       ]
      },
      {
       "output_type": "stream",
       "stream": "stdout",
       "text": [
        "\n",
        "Current Sheet: M\u00e4rz 2013"
       ]
      },
      {
       "output_type": "stream",
       "stream": "stdout",
       "text": [
        "\n",
        "Current Sheet: April 2013"
       ]
      },
      {
       "output_type": "stream",
       "stream": "stdout",
       "text": [
        "\n",
        "Current Sheet: Mai 2013"
       ]
      },
      {
       "output_type": "stream",
       "stream": "stdout",
       "text": [
        "\n",
        "Current Sheet: Juni 2013"
       ]
      },
      {
       "output_type": "stream",
       "stream": "stdout",
       "text": [
        "\n",
        "Current Sheet: Juli 2013"
       ]
      },
      {
       "output_type": "stream",
       "stream": "stdout",
       "text": [
        "\n",
        "Current Sheet: August 2013"
       ]
      },
      {
       "output_type": "stream",
       "stream": "stdout",
       "text": [
        "\n",
        "Current Sheet: September 2013"
       ]
      },
      {
       "output_type": "stream",
       "stream": "stdout",
       "text": [
        "\n",
        "Current Sheet: Oktober 2013"
       ]
      },
      {
       "output_type": "stream",
       "stream": "stdout",
       "text": [
        "\n",
        "Current Sheet: November 2013"
       ]
      },
      {
       "output_type": "stream",
       "stream": "stdout",
       "text": [
        "\n",
        "Current Sheet: Dezember 2013"
       ]
      },
      {
       "output_type": "stream",
       "stream": "stdout",
       "text": [
        "\n",
        "[u'Januar 2014', u'Februar 2014', u'M\\xe4rz 2014', u'April 2014', u'Mai 2014', u'Juni 2014', u'Januar 2009', u'Februar 2009', u'M\\xe4rz 2009', u'April 2009', u'Mai 2009', u'Juni 2009', u'Juli 2009', u'August 2009', u'September 2009', u'Juni2011', u'Juli2011', u'August2011', u'September2011', u'Dezember2011', u'Januar 2012', u'Februar 2012', u'M\\xe4rz 2012', u'April 2012', u'Mai 2012', u'Juni 2012', u'Juli 2012', u'August 2012', u'September 2012', u'Oktober 2012', u'November 2012', u'Dezember 2012', u'Januar 2010', u'Februar 2010', u'M\\xe4rz 2010', u'April 2010', u'Mai 2010', u'Oktober2011', u'November2011', u'Juni 2010', u'Juli 2010', u'August 2010', u'September 2010_aktualisiert', u'Oktober 2009', u'November 2009', u'Dezember 2009', u'Januar 2013', u'Februar 2013', u'M\\xe4rz 2013', u'April 2013', u'Mai 2013', u'Juni 2013', u'Juli 2013', u'August 2013', u'September 2013', u'Oktober 2013', u'November 2013', u'Dezember 2013']"
       ]
      },
      {
       "output_type": "stream",
       "stream": "stdout",
       "text": [
        "\n",
        "Current Sheet: Januar 2011\n",
        "non-num plz:  90765q"
       ]
      },
      {
       "output_type": "stream",
       "stream": "stdout",
       "text": [
        "\n",
        "Current Sheet: Februar 2011"
       ]
      },
      {
       "output_type": "stream",
       "stream": "stdout",
       "text": [
        "\n",
        "Current Sheet: M\u00e4rz 2011"
       ]
      },
      {
       "output_type": "stream",
       "stream": "stdout",
       "text": [
        "\n",
        "Current Sheet: April 2011"
       ]
      },
      {
       "output_type": "stream",
       "stream": "stdout",
       "text": [
        "\n",
        "Current Sheet: Mai 2011"
       ]
      },
      {
       "output_type": "stream",
       "stream": "stdout",
       "text": [
        "\n",
        "[u'Januar 2014', u'Februar 2014', u'M\\xe4rz 2014', u'April 2014', u'Mai 2014', u'Juni 2014', u'Januar 2009', u'Februar 2009', u'M\\xe4rz 2009', u'April 2009', u'Mai 2009', u'Juni 2009', u'Juli 2009', u'August 2009', u'September 2009', u'Juni2011', u'Juli2011', u'August2011', u'September2011', u'Dezember2011', u'Januar 2012', u'Februar 2012', u'M\\xe4rz 2012', u'April 2012', u'Mai 2012', u'Juni 2012', u'Juli 2012', u'August 2012', u'September 2012', u'Oktober 2012', u'November 2012', u'Dezember 2012', u'Januar 2010', u'Februar 2010', u'M\\xe4rz 2010', u'April 2010', u'Mai 2010', u'Oktober2011', u'November2011', u'Juni 2010', u'Juli 2010', u'August 2010', u'September 2010_aktualisiert', u'Oktober 2009', u'November 2009', u'Dezember 2009', u'Januar 2013', u'Februar 2013', u'M\\xe4rz 2013', u'April 2013', u'Mai 2013', u'Juni 2013', u'Juli 2013', u'August 2013', u'September 2013', u'Oktober 2013', u'November 2013', u'Dezember 2013', u'Januar 2011', u'Februar 2011', u'M\\xe4rz 2011', u'April 2011', u'Mai 2011']"
       ]
      },
      {
       "output_type": "stream",
       "stream": "stdout",
       "text": [
        "\n",
        "Current Sheet: Oktober 2010\n",
        "Current Sheet: November 2010"
       ]
      },
      {
       "output_type": "stream",
       "stream": "stdout",
       "text": [
        "\n",
        "non-num plz:  91602,"
       ]
      },
      {
       "output_type": "stream",
       "stream": "stdout",
       "text": [
        "\n",
        "Current Sheet: Dezember 2010"
       ]
      },
      {
       "output_type": "stream",
       "stream": "stdout",
       "text": [
        "\n",
        "non-num plz:  63679q\n",
        "non-num plz:  26817,"
       ]
      },
      {
       "output_type": "stream",
       "stream": "stdout",
       "text": [
        "\n"
       ]
      }
     ],
     "prompt_number": 147
    },
    {
     "cell_type": "code",
     "collapsed": false,
     "input": [
      "5*12+6"
     ],
     "language": "python",
     "metadata": {},
     "outputs": [
      {
       "metadata": {},
       "output_type": "pyout",
       "prompt_number": 151,
       "text": [
        "66"
       ]
      }
     ],
     "prompt_number": 151
    },
    {
     "cell_type": "code",
     "collapsed": false,
     "input": [
      "!wc -l already_read.txt"
     ],
     "language": "python",
     "metadata": {},
     "outputs": [
      {
       "output_type": "stream",
       "stream": "stdout",
       "text": [
        "66 already_read.txt\r\n"
       ]
      }
     ],
     "prompt_number": 149
    },
    {
     "cell_type": "code",
     "collapsed": false,
     "input": [
      "def rows_to_csv(rows, out_filename='alle_pv_meldungen.tsv'):\n",
      "    import unicodecsv\n",
      "    with open(out_filename, 'a') as out:\n",
      "        csv_out = unicodecsv.writer(out, dialect='excel-tab', encoding='utf-8')\n",
      "        for row in rows:\n",
      "            csv_out.writerow(row)    "
     ],
     "language": "python",
     "metadata": {},
     "outputs": [],
     "prompt_number": 146
    },
    {
     "cell_type": "code",
     "collapsed": false,
     "input": [
      "def files_to_rows(xls_paths):\n",
      "    for path in xls_paths:\n",
      "        book = xlrd.open_workbook(path)\n",
      "        for row in book_to_rows(book):\n",
      "            yield row"
     ],
     "language": "python",
     "metadata": {},
     "outputs": [],
     "prompt_number": 106
    },
    {
     "cell_type": "code",
     "collapsed": false,
     "input": [
      "def book_to_rows(book):\n",
      "    with open('already_read.txt', 'r') as f:\n",
      "        already_read = [l.rstrip().decode('utf-8') for l in f.readlines()]\n",
      "        print already_read\n",
      "        print\n",
      "    for sh in book.sheets():\n",
      "        if sh.name not in already_read:\n",
      "            for row in sheet_to_rows(sh):\n",
      "                yield row\n",
      "                \n",
      "            with open('already_read.txt', 'a') as f:\n",
      "                sheet_name = sh.name + '\\n'\n",
      "                f.write(sheet_name.encode('utf-8'))\n",
      "\n",
      "        "
     ],
     "language": "python",
     "metadata": {},
     "outputs": [],
     "prompt_number": 107
    },
    {
     "cell_type": "code",
     "collapsed": false,
     "input": [
      "def sheet_to_rows(sh):\n",
      "    print(\"Current Sheet: %s\" %sh.name)\n",
      "    \n",
      "    def plz_float_to_str(plz_float):\n",
      "        try:\n",
      "            plz_str_bad = str(int(plz_float))\n",
      "        except ValueError:\n",
      "            print('non-num plz:  %s' %plz_float)\n",
      "            plz_str_bad = str(plz_float)\n",
      "            \n",
      "        num_digits = len(plz_str_bad)\n",
      "        \n",
      "        if num_digits < 4:\n",
      "            raise ValueError('Corrupt PLZ found')\n",
      "        elif num_digits == 4:\n",
      "            plz_str = '0' + plz_str_bad\n",
      "        elif num_digits == 5:\n",
      "            plz_str = plz_str_bad\n",
      "        else:\n",
      "            plz_str = plz_str_bad[:5]\n",
      "        \n",
      "        return plz_str\n",
      "    \n",
      "    def date_str_to_tup(date_str):\n",
      "        #parses 21.06.1989\n",
      "        parse_error = ValueError('Couldnt parse date from string either: %s' %date_str)\n",
      "        split = date_str.split('.')\n",
      "        if len(split) == 3:\n",
      "            d, m, y = split\n",
      "            if len(d) == 2 and len(m) == 2 and len(y) == 4:\n",
      "                return int(y), int(m), int(d)\n",
      "            else:\n",
      "                raise parse_error\n",
      "        else:\n",
      "            raise parse_error\n",
      "        \n",
      "    \n",
      "    found_header = False\n",
      "    for row_i in range(sh.nrows):\n",
      "        tup = sh.row_values(row_i)\n",
      "        \n",
      "        #some files have empty rows at the end\n",
      "        if not tup[0] and found_header:\n",
      "            pass\n",
      "        elif found_header:\n",
      "            try:\n",
      "                date_tup = xlrd.xldate_as_tuple(tup[0], sh.book.datemode)\n",
      "            except ValueError:\n",
      "                date_tup = date_str_to_tup(tup[0])\n",
      "            \n",
      "            parsed_tup = (date_tup[0], date_tup[1], date_tup[2],\n",
      "                          plz_float_to_str(tup[1]), tup[2], tup[3], tup[4])\n",
      "            \n",
      "            yield parsed_tup\n",
      "        \n",
      "        elif tup[0] == u'Eingangsdatum':\n",
      "            found_header = True            "
     ],
     "language": "python",
     "metadata": {},
     "outputs": [],
     "prompt_number": 145
    },
    {
     "cell_type": "code",
     "collapsed": false,
     "input": [
      "b = xlrd.open_workbook('pvmeldungen/Meldungen_JanDez2012.xls')"
     ],
     "language": "python",
     "metadata": {},
     "outputs": [],
     "prompt_number": 134
    },
    {
     "cell_type": "code",
     "collapsed": false,
     "input": [
      "bool('')"
     ],
     "language": "python",
     "metadata": {},
     "outputs": [
      {
       "metadata": {},
       "output_type": "pyout",
       "prompt_number": 142,
       "text": [
        "False"
       ]
      }
     ],
     "prompt_number": 142
    },
    {
     "cell_type": "code",
     "collapsed": false,
     "input": [
      "dec.nrows"
     ],
     "language": "python",
     "metadata": {},
     "outputs": [
      {
       "metadata": {},
       "output_type": "pyout",
       "prompt_number": 139,
       "text": [
        "16000"
       ]
      }
     ],
     "prompt_number": 139
    },
    {
     "cell_type": "code",
     "collapsed": false,
     "input": [],
     "language": "python",
     "metadata": {},
     "outputs": []
    }
   ],
   "metadata": {}
  }
 ]
}