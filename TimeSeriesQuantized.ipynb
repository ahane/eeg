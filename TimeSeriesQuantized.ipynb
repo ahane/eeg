{
 "metadata": {
  "name": "",
  "signature": "sha256:82bab7815f10ef3fd454b8b630dfa7559ccf5ad5ca10b4f39cdece52ecd1787f"
 },
 "nbformat": 3,
 "nbformat_minor": 0,
 "worksheets": [
  {
   "cells": [
    {
     "cell_type": "code",
     "collapsed": false,
     "input": [
      "import pandas as pd\n",
      "from pandas import DataFrame, Series\n",
      "import vincent as vi\n",
      "import seaborn as sb\n",
      "import numpy as np\n",
      "import bearcart as bc\n",
      "import arrow"
     ],
     "language": "python",
     "metadata": {},
     "outputs": [],
     "prompt_number": 6
    },
    {
     "cell_type": "code",
     "collapsed": false,
     "input": [
      "%pylab inline"
     ],
     "language": "python",
     "metadata": {},
     "outputs": [
      {
       "output_type": "stream",
       "stream": "stdout",
       "text": [
        "Populating the interactive namespace from numpy and matplotlib\n"
       ]
      },
      {
       "output_type": "stream",
       "stream": "stderr",
       "text": [
        "WARNING: pylab import has clobbered these variables: ['arrow']\n",
        "`%matplotlib` prevents importing * from pylab and numpy\n"
       ]
      }
     ],
     "prompt_number": 7
    },
    {
     "cell_type": "code",
     "collapsed": false,
     "input": [
      "vi.initialize_notebook()\n",
      "bc.initialize_notebook()"
     ],
     "language": "python",
     "metadata": {},
     "outputs": [
      {
       "html": [
        "\n",
        "           <script>\n",
        "               \n",
        "                function vct_load_lib(url, callback){\n",
        "                      if(typeof d3 !== 'undefined' &&\n",
        "                         url === 'http://d3js.org/d3.v3.min.js'){\n",
        "                        callback()\n",
        "                      }\n",
        "                      var s = document.createElement('script');\n",
        "                      s.src = url;\n",
        "                      s.async = true;\n",
        "                      s.onreadystatechange = s.onload = callback;\n",
        "                      s.onerror = function(){\n",
        "                        console.warn(\"failed to load library \" + url);\n",
        "                        };\n",
        "                      document.getElementsByTagName(\"head\")[0].appendChild(s);\n",
        "                };\n",
        "                var vincent_event = new CustomEvent(\n",
        "                  \"vincent_libs_loaded\",\n",
        "                  {bubbles: true, cancelable: true}\n",
        "                );\n",
        "                \n",
        "               function load_all_libs(){\n",
        "                  console.log('Loading Vincent libs...')\n",
        "                  vct_load_lib('http://d3js.org/d3.v3.min.js', function(){\n",
        "                  vct_load_lib('http://d3js.org/d3.geo.projection.v0.min.js', function(){\n",
        "                  vct_load_lib('http://wrobstory.github.io/d3-cloud/d3.layout.cloud.js', function(){\n",
        "                  vct_load_lib('http://wrobstory.github.io/vega/vega.v1.3.3.js', function(){\n",
        "                  window.dispatchEvent(vincent_event);\n",
        "                  });\n",
        "                  });\n",
        "                  });\n",
        "                  });\n",
        "               };\n",
        "               if(typeof define === \"function\" && define.amd){\n",
        "                    if (window['d3'] === undefined ||\n",
        "                        window['topojson'] === undefined){\n",
        "                        require.config(\n",
        "                            {paths: {\n",
        "                              d3: 'http://d3js.org/d3.v3.min',\n",
        "                              topojson: 'http://d3js.org/topojson.v1.min'\n",
        "                              }\n",
        "                            }\n",
        "                          );\n",
        "                        require([\"d3\"], function(d3){\n",
        "                            console.log('Loading Vincent from require.js...')\n",
        "                            window.d3 = d3;\n",
        "                            require([\"topojson\"], function(topojson){\n",
        "                                window.topojson = topojson;\n",
        "                                load_all_libs();\n",
        "                            });\n",
        "                        });\n",
        "                    } else {\n",
        "                        load_all_libs();\n",
        "                    };\n",
        "               }else{\n",
        "                    console.log('Require.js not found, loading manually...')\n",
        "                    load_all_libs();\n",
        "               };\n",
        "\n",
        "           </script>"
       ],
       "metadata": {},
       "output_type": "display_data",
       "text": [
        "<IPython.core.display.HTML at 0x7fc129520350>"
       ]
      },
      {
       "html": [
        "<script>\n",
        "\n",
        "  var bearcart_event = new CustomEvent(\n",
        "    \"bearcart_libs_loaded\",\n",
        "    {bubbles: true, cancelable: true}\n",
        "  );\n",
        "\n",
        "  var load_cart_charts = function(){\n",
        "    window.dispatchEvent(bearcart_event);\n",
        "  };\n",
        "\n",
        " function load_bearcart_libs(){\n",
        "    console.log('Loading all Bearcart libraries...')\n",
        "    $.getScript('http://code.jquery.com/ui/1.10.4/jquery-ui.js', function(){\n",
        "      $.getScript('http://cdnjs.cloudflare.com/ajax/libs/rickshaw/1.4.6/rickshaw.min.js', load_cart_charts)\n",
        "    })\n",
        "  };\n",
        "\n",
        " if(typeof define === \"function\" && define.amd){\n",
        "      if (window['d3'] === undefined){\n",
        "          require.config(\n",
        "              {paths: {d3: 'http://d3js.org/d3.v3.min'}\n",
        "              }\n",
        "            );\n",
        "          require([\"d3\"], function(d3){\n",
        "              console.log('Loading from require.js...')\n",
        "              window.d3 = d3;\n",
        "              load_bearcart_libs();\n",
        "          });\n",
        "      } else {\n",
        "        load_bearcart_libs();\n",
        "      }\n",
        " }else{\n",
        "      console.log('Require.js not found!');\n",
        "      throw \"Require.js not found!\"\n",
        " };\n",
        "\n",
        "</script>"
       ],
       "metadata": {},
       "output_type": "display_data",
       "text": [
        "<IPython.core.display.HTML at 0x7fc1295204d0>"
       ]
      },
      {
       "html": [
        "<link rel=\"stylesheet\" href=\"http://cdnjs.cloudflare.com/ajax/libs/rickshaw/1.3.0/rickshaw.css\">\n",
        "<link rel=\"stylesheet\" href=\"http://code.jquery.com/ui/1.10.4/themes/smoothness/jquery-ui.css\">\n",
        "<style>\n",
        "  .rickshaw-chart {\n",
        "      font: 10px sans-serif;\n",
        "      float: left;\n",
        "      margin-top: 70px;\n",
        "            }\n",
        "  .rickshaw-y-axis {\n",
        "      font: 10px sans-serif;\n",
        "      float: left;\n",
        "      margin-top: 70px;\n",
        "  }\n",
        "  .rickshaw-legend {\n",
        "      float: left;\n",
        "      margin-left: 15px;\n",
        "      margin-top: 70px;\n",
        "  }\n",
        "\n",
        "  .rickshaw-slider {\n",
        "      float:left;\n",
        "      margin-top: : 100px;\n",
        "  }\n",
        "</style>"
       ],
       "metadata": {},
       "output_type": "display_data",
       "text": [
        "<IPython.core.display.HTML at 0x7fc129520590>"
       ]
      }
     ],
     "prompt_number": 8
    },
    {
     "cell_type": "code",
     "collapsed": false,
     "input": [
      "anlagen = DataFrame.from_csv('pv0913.csv', sep=\"|\")"
     ],
     "language": "python",
     "metadata": {},
     "outputs": [],
     "prompt_number": 9
    },
    {
     "cell_type": "code",
     "collapsed": false,
     "input": [
      "ans = anlagen"
     ],
     "language": "python",
     "metadata": {},
     "outputs": [],
     "prompt_number": 10
    },
    {
     "cell_type": "code",
     "collapsed": false,
     "input": [
      "ans['year-month'] = ans['year-month'].apply(lambda x: arrow.get(x).date())"
     ],
     "language": "python",
     "metadata": {},
     "outputs": [
      {
       "ename": "AttributeError",
       "evalue": "'function' object has no attribute 'get'",
       "output_type": "pyerr",
       "traceback": [
        "\u001b[1;31m---------------------------------------------------------------------------\u001b[0m\n\u001b[1;31mAttributeError\u001b[0m                            Traceback (most recent call last)",
        "\u001b[1;32m<ipython-input-11-c4d52734dacb>\u001b[0m in \u001b[0;36m<module>\u001b[1;34m()\u001b[0m\n\u001b[1;32m----> 1\u001b[1;33m \u001b[0mans\u001b[0m\u001b[1;33m[\u001b[0m\u001b[1;34m'year-month'\u001b[0m\u001b[1;33m]\u001b[0m \u001b[1;33m=\u001b[0m \u001b[0mans\u001b[0m\u001b[1;33m[\u001b[0m\u001b[1;34m'year-month'\u001b[0m\u001b[1;33m]\u001b[0m\u001b[1;33m.\u001b[0m\u001b[0mapply\u001b[0m\u001b[1;33m(\u001b[0m\u001b[1;32mlambda\u001b[0m \u001b[0mx\u001b[0m\u001b[1;33m:\u001b[0m \u001b[0marrow\u001b[0m\u001b[1;33m.\u001b[0m\u001b[0mget\u001b[0m\u001b[1;33m(\u001b[0m\u001b[0mx\u001b[0m\u001b[1;33m)\u001b[0m\u001b[1;33m.\u001b[0m\u001b[0mdate\u001b[0m\u001b[1;33m(\u001b[0m\u001b[1;33m)\u001b[0m\u001b[1;33m)\u001b[0m\u001b[1;33m\u001b[0m\u001b[0m\n\u001b[0m",
        "\u001b[1;32m/home/alec/anaconda/lib/python2.7/site-packages/pandas/core/series.pyc\u001b[0m in \u001b[0;36mapply\u001b[1;34m(self, func, convert_dtype, args, **kwds)\u001b[0m\n\u001b[0;32m   2021\u001b[0m             \u001b[0mvalues\u001b[0m \u001b[1;33m=\u001b[0m \u001b[0mlib\u001b[0m\u001b[1;33m.\u001b[0m\u001b[0mmap_infer\u001b[0m\u001b[1;33m(\u001b[0m\u001b[0mvalues\u001b[0m\u001b[1;33m,\u001b[0m \u001b[0mlib\u001b[0m\u001b[1;33m.\u001b[0m\u001b[0mTimestamp\u001b[0m\u001b[1;33m)\u001b[0m\u001b[1;33m\u001b[0m\u001b[0m\n\u001b[0;32m   2022\u001b[0m \u001b[1;33m\u001b[0m\u001b[0m\n\u001b[1;32m-> 2023\u001b[1;33m         \u001b[0mmapped\u001b[0m \u001b[1;33m=\u001b[0m \u001b[0mlib\u001b[0m\u001b[1;33m.\u001b[0m\u001b[0mmap_infer\u001b[0m\u001b[1;33m(\u001b[0m\u001b[0mvalues\u001b[0m\u001b[1;33m,\u001b[0m \u001b[0mf\u001b[0m\u001b[1;33m,\u001b[0m \u001b[0mconvert\u001b[0m\u001b[1;33m=\u001b[0m\u001b[0mconvert_dtype\u001b[0m\u001b[1;33m)\u001b[0m\u001b[1;33m\u001b[0m\u001b[0m\n\u001b[0m\u001b[0;32m   2024\u001b[0m         \u001b[1;32mif\u001b[0m \u001b[0mlen\u001b[0m\u001b[1;33m(\u001b[0m\u001b[0mmapped\u001b[0m\u001b[1;33m)\u001b[0m \u001b[1;32mand\u001b[0m \u001b[0misinstance\u001b[0m\u001b[1;33m(\u001b[0m\u001b[0mmapped\u001b[0m\u001b[1;33m[\u001b[0m\u001b[1;36m0\u001b[0m\u001b[1;33m]\u001b[0m\u001b[1;33m,\u001b[0m \u001b[0mSeries\u001b[0m\u001b[1;33m)\u001b[0m\u001b[1;33m:\u001b[0m\u001b[1;33m\u001b[0m\u001b[0m\n\u001b[0;32m   2025\u001b[0m             \u001b[1;32mfrom\u001b[0m \u001b[0mpandas\u001b[0m\u001b[1;33m.\u001b[0m\u001b[0mcore\u001b[0m\u001b[1;33m.\u001b[0m\u001b[0mframe\u001b[0m \u001b[1;32mimport\u001b[0m \u001b[0mDataFrame\u001b[0m\u001b[1;33m\u001b[0m\u001b[0m\n",
        "\u001b[1;32m/home/alec/anaconda/lib/python2.7/site-packages/pandas/lib.so\u001b[0m in \u001b[0;36mpandas.lib.map_infer (pandas/lib.c:44780)\u001b[1;34m()\u001b[0m\n",
        "\u001b[1;32m<ipython-input-11-c4d52734dacb>\u001b[0m in \u001b[0;36m<lambda>\u001b[1;34m(x)\u001b[0m\n\u001b[1;32m----> 1\u001b[1;33m \u001b[0mans\u001b[0m\u001b[1;33m[\u001b[0m\u001b[1;34m'year-month'\u001b[0m\u001b[1;33m]\u001b[0m \u001b[1;33m=\u001b[0m \u001b[0mans\u001b[0m\u001b[1;33m[\u001b[0m\u001b[1;34m'year-month'\u001b[0m\u001b[1;33m]\u001b[0m\u001b[1;33m.\u001b[0m\u001b[0mapply\u001b[0m\u001b[1;33m(\u001b[0m\u001b[1;32mlambda\u001b[0m \u001b[0mx\u001b[0m\u001b[1;33m:\u001b[0m \u001b[0marrow\u001b[0m\u001b[1;33m.\u001b[0m\u001b[0mget\u001b[0m\u001b[1;33m(\u001b[0m\u001b[0mx\u001b[0m\u001b[1;33m)\u001b[0m\u001b[1;33m.\u001b[0m\u001b[0mdate\u001b[0m\u001b[1;33m(\u001b[0m\u001b[1;33m)\u001b[0m\u001b[1;33m)\u001b[0m\u001b[1;33m\u001b[0m\u001b[0m\n\u001b[0m",
        "\u001b[1;31mAttributeError\u001b[0m: 'function' object has no attribute 'get'"
       ]
      }
     ],
     "prompt_number": 11
    },
    {
     "cell_type": "code",
     "collapsed": false,
     "input": [
      "kw_bin_names = ['0 - 10kWp', '>10kWp - 40kWp', '>40kWp - 1MWp', '>1MWp - <10Mwp']\n",
      "kw_bins = pd.cut(ans.power_in_kW, [0, 10, 40, 1000, 10000], right=True,\n",
      "                labels=kw_bin_names)"
     ],
     "language": "python",
     "metadata": {},
     "outputs": []
    },
    {
     "cell_type": "code",
     "collapsed": false,
     "input": [
      "ans['kw_bins'] = kw_bins"
     ],
     "language": "python",
     "metadata": {},
     "outputs": []
    },
    {
     "cell_type": "code",
     "collapsed": false,
     "input": [
      "by_bins = ans[['power_in_kW', 'kw_bins']].groupby('kw_bins')"
     ],
     "language": "python",
     "metadata": {},
     "outputs": [],
     "prompt_number": 105
    },
    {
     "cell_type": "code",
     "collapsed": false,
     "input": [
      "kw_bin_sums = by_bins.aggregate({'power_in_kW': np.sum})\n",
      "kw_bin_sums.plot(kind='bar')"
     ],
     "language": "python",
     "metadata": {},
     "outputs": [
      {
       "metadata": {},
       "output_type": "pyout",
       "prompt_number": 106,
       "text": [
        "<matplotlib.axes.AxesSubplot at 0x7fd897be2150>"
       ]
      },
      {
       "metadata": {},
       "output_type": "display_data",
       "png": "[encoded data removed]",
       "text": [
        "<matplotlib.figure.Figure at 0x7fd897be2210>"
       ]
      }
     ],
     "prompt_number": 106
    },
    {
     "cell_type": "code",
     "collapsed": false,
     "input": [
      "by_bins_monts = ans[['power_in_kW', 'kw_bins', 'year-month']].groupby(['kw_bins', 'year-month'])"
     ],
     "language": "python",
     "metadata": {},
     "outputs": [],
     "prompt_number": 107
    },
    {
     "cell_type": "code",
     "collapsed": false,
     "input": [
      "monthly_bins = by_bins_monts.aggregate({'power_in_kW': np.sum}).reset_index()"
     ],
     "language": "python",
     "metadata": {},
     "outputs": [],
     "prompt_number": 108
    },
    {
     "cell_type": "code",
     "collapsed": false,
     "input": [
      "monthly = monthly_bins.pivot(index='year-month', columns='kw_bins', values='power_in_kW')\n",
      "monthly.index = pd.DatetimeIndex(monthly.index)"
     ],
     "language": "python",
     "metadata": {},
     "outputs": [],
     "prompt_number": 109
    },
    {
     "cell_type": "code",
     "collapsed": false,
     "input": [
      "with open('monthly0913.df', 'w') as f:\n",
      "    import pickle\n",
      "    pickle.dump(monthly, f)"
     ],
     "language": "python",
     "metadata": {},
     "outputs": [],
     "prompt_number": 113
    },
    {
     "cell_type": "code",
     "collapsed": false,
     "input": [
      "vis = bc.Chart(monthly, plt_type='bar')"
     ],
     "language": "python",
     "metadata": {},
     "outputs": [],
     "prompt_number": 110
    },
    {
     "cell_type": "code",
     "collapsed": false,
     "input": [
      "vis"
     ],
     "language": "python",
     "metadata": {},
     "outputs": [
      {
       "html": [
        "\n",
        "<div class=\"rickshaw-y-axis\" id=\"bearcart_y_axis_id_8a30c4d393104c619d5f571979501132\"></div>\n",
        "<div class=\"rickshaw-chart\" id=\"bearcart_a67b1631f3914355a4143ea7af7e151c\"></div>\n",
        "<div class=\"rickshaw-legend\" id=\"bearcart_legend_id_0da3ce6e462d47199c297307ed8e54ff\"></div>\n",
        "<div class=\"rickshaw-slider\" id=\"bearcart_slider_id_2c7de7f826bd4ef8a53f86538093ca85\"></div>\n",
        "\n",
        "<script>\n",
        "\n",
        "  var make_plot = function(){\n",
        "    if (typeof Rickshaw === 'undefined'){\n",
        "      window.addEventListener('bearcart_libs_loaded', make_plot)\n",
        "      return;\n",
        "    }\n",
        "\n",
        "    var render_plot = (function(){\n",
        "\n",
        "      var json = JSON.parse('[{\"data\": [{\"y\": 1447.7199999999996, \"x\": 1231974000.0}, {\"y\": 5342.360000000001, \"x\": 1234652400.0}, {\"y\": 14406.739999999998, \"x\": 1237071600.0}, {\"y\": 23897.34000000002, \"x\": 1239746400.0}, {\"y\": 26978.620000000014, \"x\": 1242338400.0}, {\"y\": 33512.79000000001, \"x\": 1245016800.0}, {\"y\": 43689.68999999998, \"x\": 1247608800.0}, {\"y\": 44696.64999999982, \"x\": 1250287200.0}, {\"y\": 49900.979999999676, \"x\": 1252965600.0}, {\"y\": 55691.75999999977, \"x\": 1255557600.0}, {\"y\": 67191.86999999969, \"x\": 1258239600.0}, {\"y\": 106732.70999999934, \"x\": 1260831600.0}, {\"y\": 17975.430000000008, \"x\": 1263510000.0}, {\"y\": 19998.140000000025, \"x\": 1266188400.0}, {\"y\": 53785.99999999974, \"x\": 1268607600.0}, {\"y\": 58563.04999999969, \"x\": 1271282400.0}, {\"y\": 67980.46999999954, \"x\": 1273874400.0}, {\"y\": 160533.9899999998, \"x\": 1276552800.0}, {\"y\": 51285.38999999976, \"x\": 1279144800.0}, {\"y\": 34378.76000000003, \"x\": 1281823200.0}, {\"y\": 83574.1599999997, \"x\": 1284501600.0}, {\"y\": 37461.88000000009, \"x\": 1287093600.0}, {\"y\": 39851.6199999999, \"x\": 1289775600.0}, {\"y\": 62863.309999999765, \"x\": 1292367600.0}, {\"y\": 14171.930000000002, \"x\": 1295046000.0}, {\"y\": 11017.910000000025, \"x\": 1297724400.0}, {\"y\": 21153.200000000077, \"x\": 1300143600.0}, {\"y\": 30605.820000000076, \"x\": 1302818400.0}, {\"y\": 64901.30999999962, \"x\": 1305410400.0}, {\"y\": 93961.02999999974, \"x\": 1308088800.0}, {\"y\": 68208.46999999967, \"x\": 1310680800.0}, {\"y\": 55389.08999999978, \"x\": 1313359200.0}, {\"y\": 62992.369999999784, \"x\": 1316037600.0}, {\"y\": 70110.30000000018, \"x\": 1318629600.0}, {\"y\": 98195.41000000037, \"x\": 1321311600.0}, {\"y\": 170379.62000000116, \"x\": 1323903600.0}, {\"y\": 33087.38999999991, \"x\": 1326582000.0}, {\"y\": 25918.719999999867, \"x\": 1329260400.0}, {\"y\": 126297.8700000022, \"x\": 1331766000.0}, {\"y\": 38918.73999999983, \"x\": 1334440800.0}, {\"y\": 29836.9899999999, \"x\": 1337032800.0}, {\"y\": 41712.87999999999, \"x\": 1339711200.0}, {\"y\": 46020.779999999824, \"x\": 1342303200.0}, {\"y\": 54932.07999999983, \"x\": 1344981600.0}, {\"y\": 62750.54999999976, \"x\": 1347660000.0}, {\"y\": 84290.9899999983, \"x\": 1350252000.0}, {\"y\": 78354.83999999742, \"x\": 1352934000.0}, {\"y\": 50733.400000000234, \"x\": 1355526000.0}, {\"y\": 42106.61000000023, \"x\": 1358204400.0}, {\"y\": 39288.95999999993, \"x\": 1360882800.0}, {\"y\": 54864.6299999999, \"x\": 1363302000.0}, {\"y\": 64812.57999999984, \"x\": 1365976800.0}, {\"y\": 55274.76999999991, \"x\": 1368568800.0}, {\"y\": 55925.570000000014, \"x\": 1371247200.0}, {\"y\": 59048.08999999965, \"x\": 1373839200.0}, {\"y\": 48098.26000000004, \"x\": 1376517600.0}, {\"y\": 48083.9700000003, \"x\": 1379196000.0}, {\"y\": 49478.97000000007, \"x\": 1381788000.0}, {\"y\": 43908.8600000001, \"x\": 1384470000.0}, {\"y\": 32367.680000000008, \"x\": 1387062000.0}], \"name\": \"0 - 10kWp\"}, {\"data\": [{\"y\": 884.3999999999999, \"x\": 1231974000.0}, {\"y\": 7907.23, \"x\": 1234652400.0}, {\"y\": 27309.46000000002, \"x\": 1237071600.0}, {\"y\": 57100.82999999989, \"x\": 1239746400.0}, {\"y\": 69858.78999999979, \"x\": 1242338400.0}, {\"y\": 93666.67000000004, \"x\": 1245016800.0}, {\"y\": 125355.45000000004, \"x\": 1247608800.0}, {\"y\": 133933.05999999997, \"x\": 1250287200.0}, {\"y\": 149606.33999999968, \"x\": 1252965600.0}, {\"y\": 170990.92000000057, \"x\": 1255557600.0}, {\"y\": 204709.8500000007, \"x\": 1258239600.0}, {\"y\": 419751.5500000018, \"x\": 1260831600.0}, {\"y\": 72061.66999999995, \"x\": 1263510000.0}, {\"y\": 56633.589999999924, \"x\": 1266188400.0}, {\"y\": 147321.26000000013, \"x\": 1268607600.0}, {\"y\": 202019.22999999966, \"x\": 1271282400.0}, {\"y\": 236452.87000000032, \"x\": 1273874400.0}, {\"y\": 661288.0499999961, \"x\": 1276552800.0}, {\"y\": 205011.4499999999, \"x\": 1279144800.0}, {\"y\": 102630.0899999998, \"x\": 1281823200.0}, {\"y\": 238984.50999999864, \"x\": 1284501600.0}, {\"y\": 106473.57999999973, \"x\": 1287093600.0}, {\"y\": 99384.72999999976, \"x\": 1289775600.0}, {\"y\": 208562.35000000003, \"x\": 1292367600.0}, {\"y\": 49549.06999999999, \"x\": 1295046000.0}, {\"y\": 28102.25999999998, \"x\": 1297724400.0}, {\"y\": 46352.440000000046, \"x\": 1300143600.0}, {\"y\": 74372.05000000009, \"x\": 1302818400.0}, {\"y\": 140033.96999999986, \"x\": 1305410400.0}, {\"y\": 208273.26999999973, \"x\": 1308088800.0}, {\"y\": 164160.26999999967, \"x\": 1310680800.0}, {\"y\": 120789.30999999972, \"x\": 1313359200.0}, {\"y\": 130255.06999999899, \"x\": 1316037600.0}, {\"y\": 143666.94999999934, \"x\": 1318629600.0}, {\"y\": 216837.97000000076, \"x\": 1321311600.0}, {\"y\": 512043.02000000863, \"x\": 1323903600.0}, {\"y\": 102411.09999999973, \"x\": 1326582000.0}, {\"y\": 62438.299999999916, \"x\": 1329260400.0}, {\"y\": 334400.5300000086, \"x\": 1331766000.0}, {\"y\": 98446.79999999954, \"x\": 1334440800.0}, {\"y\": 62558.91999999994, \"x\": 1337032800.0}, {\"y\": 100409.1099999994, \"x\": 1339711200.0}, {\"y\": 69897.40999999995, \"x\": 1342303200.0}, {\"y\": 70318.88000000009, \"x\": 1344981600.0}, {\"y\": 74193.93999999973, \"x\": 1347660000.0}, {\"y\": 101148.19999999943, \"x\": 1350252000.0}, {\"y\": 85149.83999999863, \"x\": 1352934000.0}, {\"y\": 58125.23000000009, \"x\": 1355526000.0}, {\"y\": 47442.829999999965, \"x\": 1358204400.0}, {\"y\": 39193.850000000035, \"x\": 1360882800.0}, {\"y\": 52767.79000000009, \"x\": 1363302000.0}, {\"y\": 60207.56999999998, \"x\": 1365976800.0}, {\"y\": 51765.45999999995, \"x\": 1368568800.0}, {\"y\": 50476.77999999995, \"x\": 1371247200.0}, {\"y\": 50106.89999999991, \"x\": 1373839200.0}, {\"y\": 43111.00999999993, \"x\": 1376517600.0}, {\"y\": 40068.290000000015, \"x\": 1379196000.0}, {\"y\": 37529.04000000005, \"x\": 1381788000.0}, {\"y\": 33816.39000000002, \"x\": 1384470000.0}, {\"y\": 27918.860000000026, \"x\": 1387062000.0}], \"name\": \">10kWp - 40kWp\"}, {\"data\": [{\"y\": null, \"x\": 1231974000.0}, {\"y\": null, \"x\": 1234652400.0}, {\"y\": null, \"x\": 1237071600.0}, {\"y\": 10680.3, \"x\": 1239746400.0}, {\"y\": 15737.75, \"x\": 1242338400.0}, {\"y\": 37898.35, \"x\": 1245016800.0}, {\"y\": 40994.3, \"x\": 1247608800.0}, {\"y\": 38499.02, \"x\": 1250287200.0}, {\"y\": 34810.71, \"x\": 1252965600.0}, {\"y\": 38713.79, \"x\": 1255557600.0}, {\"y\": 37503.01, \"x\": 1258239600.0}, {\"y\": 275675.6900000001, \"x\": 1260831600.0}, {\"y\": 30043.100000000002, \"x\": 1263510000.0}, {\"y\": 18512.71, \"x\": 1266188400.0}, {\"y\": 32856.119999999995, \"x\": 1268607600.0}, {\"y\": 36552.64, \"x\": 1271282400.0}, {\"y\": 57843.409999999996, \"x\": 1273874400.0}, {\"y\": 318155.01, \"x\": 1276552800.0}, {\"y\": 101154.84000000001, \"x\": 1279144800.0}, {\"y\": 56369.669999999984, \"x\": 1281823200.0}, {\"y\": 40429.170000000006, \"x\": 1284501600.0}, {\"y\": 59284.21, \"x\": 1287093600.0}, {\"y\": 85030.23999999999, \"x\": 1289775600.0}, {\"y\": 389936.71, \"x\": 1292367600.0}, {\"y\": 91175.1, \"x\": 1295046000.0}, {\"y\": 9248.24, \"x\": 1297724400.0}, {\"y\": 16788.04, \"x\": 1300143600.0}, {\"y\": 23418.79, \"x\": 1302818400.0}, {\"y\": 40612.31, \"x\": 1305410400.0}, {\"y\": 65893.7, \"x\": 1308088800.0}, {\"y\": 101108.23000000003, \"x\": 1310680800.0}, {\"y\": 156140.15999999997, \"x\": 1313359200.0}, {\"y\": 141115.59, \"x\": 1316037600.0}, {\"y\": 132298.74, \"x\": 1318629600.0}, {\"y\": 129373.58, \"x\": 1321311600.0}, {\"y\": 1024181.8399999993, \"x\": 1323903600.0}, {\"y\": 150934.26999999996, \"x\": 1326582000.0}, {\"y\": 40497.759999999995, \"x\": 1329260400.0}, {\"y\": 185748.74000000002, \"x\": 1331766000.0}, {\"y\": 35428.590000000004, \"x\": 1334440800.0}, {\"y\": 36510.43000000001, \"x\": 1337032800.0}, {\"y\": 758577.7499999995, \"x\": 1339711200.0}, {\"y\": 151976.00000000003, \"x\": 1342303200.0}, {\"y\": 47257.46, \"x\": 1344981600.0}, {\"y\": 386279.5899999999, \"x\": 1347660000.0}, {\"y\": 168714.33000000007, \"x\": 1350252000.0}, {\"y\": 132264.39000000004, \"x\": 1352934000.0}, {\"y\": 107793.26999999997, \"x\": 1355526000.0}, {\"y\": 90929.24, \"x\": 1358204400.0}, {\"y\": 61772.64, \"x\": 1360882800.0}, {\"y\": 91048.47999999998, \"x\": 1363302000.0}, {\"y\": 140783.17000000004, \"x\": 1365976800.0}, {\"y\": 146054.16999999998, \"x\": 1368568800.0}, {\"y\": 124800.69, \"x\": 1371247200.0}, {\"y\": 98123.6, \"x\": 1373839200.0}, {\"y\": 112569.70000000001, \"x\": 1376517600.0}, {\"y\": 119618.01999999997, \"x\": 1379196000.0}, {\"y\": 69628.23999999999, \"x\": 1381788000.0}, {\"y\": 69689.01, \"x\": 1384470000.0}, {\"y\": 39425.97000000001, \"x\": 1387062000.0}], \"name\": \">1MWp - <10Mwp\"}, {\"data\": [{\"y\": 463.7, \"x\": 1231974000.0}, {\"y\": 2965.0699999999993, \"x\": 1234652400.0}, {\"y\": 13535.659999999996, \"x\": 1237071600.0}, {\"y\": 23456.72000000001, \"x\": 1239746400.0}, {\"y\": 37527.15000000002, \"x\": 1242338400.0}, {\"y\": 40755.00999999997, \"x\": 1245016800.0}, {\"y\": 76990.83000000012, \"x\": 1247608800.0}, {\"y\": 74041.99000000006, \"x\": 1250287200.0}, {\"y\": 92593.70000000007, \"x\": 1252965600.0}, {\"y\": 113258.58999999982, \"x\": 1255557600.0}, {\"y\": 143057.81999999992, \"x\": 1258239600.0}, {\"y\": 613934.7700000015, \"x\": 1260831600.0}, {\"y\": 102166.98999999998, \"x\": 1263510000.0}, {\"y\": 68135.72000000012, \"x\": 1266188400.0}, {\"y\": 97415.06, \"x\": 1268607600.0}, {\"y\": 156910.81999999986, \"x\": 1271282400.0}, {\"y\": 210900.16999999937, \"x\": 1273874400.0}, {\"y\": 929370.5100000027, \"x\": 1276552800.0}, {\"y\": 305613.1900000005, \"x\": 1279144800.0}, {\"y\": 151278.48000000013, \"x\": 1281823200.0}, {\"y\": 268719.9400000002, \"x\": 1284501600.0}, {\"y\": 131690.59000000008, \"x\": 1287093600.0}, {\"y\": 102405.37999999998, \"x\": 1289775600.0}, {\"y\": 442226.20000000106, \"x\": 1292367600.0}, {\"y\": 100324.78999999995, \"x\": 1295046000.0}, {\"y\": 51341.91000000004, \"x\": 1297724400.0}, {\"y\": 63062.19000000006, \"x\": 1300143600.0}, {\"y\": 70550.93999999997, \"x\": 1302818400.0}, {\"y\": 125191.61999999988, \"x\": 1305410400.0}, {\"y\": 262173.45999999985, \"x\": 1308088800.0}, {\"y\": 219566.8100000001, \"x\": 1310680800.0}, {\"y\": 158763.61000000002, \"x\": 1313359200.0}, {\"y\": 125304.98000000005, \"x\": 1316037600.0}, {\"y\": 116677.85, \"x\": 1318629600.0}, {\"y\": 203689.54999999973, \"x\": 1321311600.0}, {\"y\": 1084110.579999996, \"x\": 1323903600.0}, {\"y\": 197344.99000000005, \"x\": 1326582000.0}, {\"y\": 101064.29999999993, \"x\": 1329260400.0}, {\"y\": 576323.09, \"x\": 1331766000.0}, {\"y\": 163988.00000000003, \"x\": 1334440800.0}, {\"y\": 86237.15999999996, \"x\": 1337032800.0}, {\"y\": 552765.0600000003, \"x\": 1339711200.0}, {\"y\": 193450.06999999983, \"x\": 1342303200.0}, {\"y\": 96942.66000000002, \"x\": 1344981600.0}, {\"y\": 130785.03000000001, \"x\": 1347660000.0}, {\"y\": 176021.0399999998, \"x\": 1350252000.0}, {\"y\": 139514.3599999999, \"x\": 1352934000.0}, {\"y\": 113456.04000000001, \"x\": 1355526000.0}, {\"y\": 94198.72999999997, \"x\": 1358204400.0}, {\"y\": 70963.59, \"x\": 1360882800.0}, {\"y\": 91794.55999999995, \"x\": 1363302000.0}, {\"y\": 101919.97000000004, \"x\": 1365976800.0}, {\"y\": 91135.93000000008, \"x\": 1368568800.0}, {\"y\": 78042.37000000007, \"x\": 1371247200.0}, {\"y\": 105732.54000000017, \"x\": 1373839200.0}, {\"y\": 87864.61999999997, \"x\": 1376517600.0}, {\"y\": 83128.16, \"x\": 1379196000.0}, {\"y\": 69325.27999999996, \"x\": 1381788000.0}, {\"y\": 71340.94999999998, \"x\": 1384470000.0}, {\"y\": 66312.97, \"x\": 1387062000.0}], \"name\": \">40kWp - 1MWp\"}]');\n",
        "\n",
        "      var palette = new Rickshaw.Color.Palette( {scheme: 'spectrum14'} );\n",
        "\n",
        "      var graph = new Rickshaw.Graph( {\n",
        "                element: d3.select(\"#bearcart_a67b1631f3914355a4143ea7af7e151c\").node(),\n",
        "                min: 'auto',\n",
        "                width: 750,\n",
        "                height: 400,\n",
        "                renderer: 'bar',\n",
        "                series: [\n",
        "                         {name: '0 - 10kWp',\n",
        "                          color: palette.color(),\n",
        "                          data: json[0].data},\n",
        "                          \n",
        "                         {name: '>10kWp - 40kWp',\n",
        "                          color: palette.color(),\n",
        "                          data: json[1].data},\n",
        "                          \n",
        "                         {name: '>1MWp - <10Mwp',\n",
        "                          color: palette.color(),\n",
        "                          data: json[2].data},\n",
        "                          \n",
        "                         {name: '>40kWp - 1MWp',\n",
        "                          color: palette.color(),\n",
        "                          data: json[3].data}\n",
        "                          ]\n",
        "                })\n",
        "\n",
        "      var x_axis = new Rickshaw.Graph.Axis.Time( { graph: graph } );\n",
        "\n",
        "      \n",
        "\n",
        "      var y_axis = new Rickshaw.Graph.Axis.Y( {\n",
        "        graph: graph,\n",
        "        orientation: 'left',\n",
        "        height: 400,\n",
        "        tickFormat: Rickshaw.Fixtures.Number.formatKMBT,\n",
        "        element: d3.select(\"#bearcart_y_axis_id_8a30c4d393104c619d5f571979501132\").node()\n",
        "} );\n",
        "\n",
        "      var hoverDetail = new Rickshaw.Graph.HoverDetail( {\n",
        "    graph: graph,\n",
        "    \n",
        "} );\n",
        "\n",
        "      var legend = new Rickshaw.Graph.Legend({\n",
        "    graph: graph,\n",
        "    element: d3.select(\"#bearcart_legend_id_0da3ce6e462d47199c297307ed8e54ff\").node()\n",
        "\n",
        "});\n",
        "\n",
        "var shelving = new Rickshaw.Graph.Behavior.Series.Toggle({\n",
        "    graph: graph,\n",
        "    legend: legend\n",
        "});\n",
        "\n",
        "      var slider = new Rickshaw.Graph.RangeSlider({\n",
        "    graph: graph,\n",
        "    element: d3.select(\"#bearcart_slider_id_2c7de7f826bd4ef8a53f86538093ca85\").node()\n",
        "});\n",
        "\n",
        "      graph.render();\n",
        "\n",
        "    })();\n",
        "\n",
        "  };\n",
        "\n",
        "  make_plot();\n",
        "\n",
        "</script>"
       ],
       "metadata": {},
       "output_type": "pyout",
       "prompt_number": 111,
       "text": [
        "<bearcart.bearcart.Chart at 0x7fd897f097d0>"
       ]
      }
     ],
     "prompt_number": 111
    },
    {
     "cell_type": "code",
     "collapsed": false,
     "input": [
      "html_path = r'index.html'\n",
      "data_path = r'bc/data.json'\n",
      "js_path = r'bc/rickshaw.min.js'\n",
      "css_path = r'bc/rickshaw.min.css'"
     ],
     "language": "python",
     "metadata": {},
     "outputs": [],
     "prompt_number": 119
    },
    {
     "cell_type": "code",
     "collapsed": false,
     "input": [
      "vis.create_chart(html_path=html_path, data_path=data_path,\n",
      "                 js_path=js_path, css_path=css_path)"
     ],
     "language": "python",
     "metadata": {},
     "outputs": [],
     "prompt_number": 120
    },
    {
     "cell_type": "code",
     "collapsed": false,
     "input": [
      "!mkdir bc"
     ],
     "language": "python",
     "metadata": {},
     "outputs": [],
     "prompt_number": 117
    },
    {
     "cell_type": "code",
     "collapsed": false,
     "input": [],
     "language": "python",
     "metadata": {},
     "outputs": []
    }
   ],
   "metadata": {}
  }
 ]
}