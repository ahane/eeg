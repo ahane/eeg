{
 "metadata": {
  "name": "",
  "signature": "sha256:78d5fed70f56350080e33ff381d87ad981a7ff81db4303dded608221d534c298"
 },
 "nbformat": 3,
 "nbformat_minor": 0,
 "worksheets": [
  {
   "cells": [
    {
     "cell_type": "code",
     "collapsed": false,
     "input": [
      "import pandas as pd\n",
      "import numpy as np\n",
      "from pandas import DataFrame\n",
      "from collections import Counter\n",
      "from datetime import datetime\n",
      "import calendar as cal\n",
      "%pylab inline"
     ],
     "language": "python",
     "metadata": {},
     "outputs": [
      {
       "output_type": "stream",
       "stream": "stdout",
       "text": [
        "Populating the interactive namespace from numpy and matplotlib\n"
       ]
      },
      {
       "output_type": "stream",
       "stream": "stderr",
       "text": [
        "WARNING: pylab import has clobbered these variables: ['datetime']\n",
        "`%matplotlib` prevents importing * from pylab and numpy\n"
       ]
      }
     ],
     "prompt_number": 1
    },
    {
     "cell_type": "code",
     "collapsed": false,
     "input": [
      "import pickle\n",
      "with open('base_data/all_pv.df.pick', 'r') as f:\n",
      "    all_pv = pickle.load(f)"
     ],
     "language": "python",
     "metadata": {},
     "outputs": [],
     "prompt_number": 87
    },
    {
     "cell_type": "code",
     "collapsed": false,
     "input": [
      "total_by_month = all_pv[['year', 'month', 'kw']].groupby(['year', 'month']).agg(np.sum).reset_index()"
     ],
     "language": "python",
     "metadata": {},
     "outputs": [],
     "prompt_number": 88
    },
    {
     "cell_type": "code",
     "collapsed": false,
     "input": [
      "total_by_month['real'] = 1"
     ],
     "language": "python",
     "metadata": {},
     "outputs": [],
     "prompt_number": 89
    },
    {
     "cell_type": "code",
     "collapsed": false,
     "input": [
      "last_real_month = np.array(total_by_month['month'])[-1]\n",
      "last_real_kw = np.array(total_by_month['kw'])[-1]\n",
      "curr_year = np.array(total_by_month['year'])[-1]\n",
      "this_year_std = total_by_month[total_by_month['year'] == curr_year]['kw'].std()\n",
      "future_vals = []\n",
      "for month in range(last_real_month+1, 12+1):\n",
      "    next_kw = last_real_kw + (2*this_year_std*(random.random()-0.5))\n",
      "    future_vals.append((curr_year, month, next_kw, 0))\n",
      "future_df = DataFrame(future_vals, columns=['year', 'month', 'kw', 'real'])"
     ],
     "language": "python",
     "metadata": {},
     "outputs": [],
     "prompt_number": 91
    },
    {
     "cell_type": "code",
     "collapsed": false,
     "input": [
      "with_predictions = pd.concat([total_by_month, future_df], axis=0)"
     ],
     "language": "python",
     "metadata": {},
     "outputs": [],
     "prompt_number": 92
    },
    {
     "cell_type": "code",
     "collapsed": false,
     "input": [
      "with_predictions['date'] = with_predictions.apply(row_to_date , axis=1)"
     ],
     "language": "python",
     "metadata": {},
     "outputs": [],
     "prompt_number": 93
    },
    {
     "cell_type": "code",
     "collapsed": false,
     "input": [
      "def row_to_date(row):\n",
      "    year, month = int(row['year']), int(row['month'])\n",
      "    return datetime.date(year, month, cal.monthrange(year, month)[1])"
     ],
     "language": "python",
     "metadata": {},
     "outputs": [],
     "prompt_number": 94
    },
    {
     "cell_type": "code",
     "collapsed": false,
     "input": [
      "with_predictions.index = with_predictions['date']"
     ],
     "language": "python",
     "metadata": {},
     "outputs": [],
     "prompt_number": 95
    },
    {
     "cell_type": "code",
     "collapsed": false,
     "input": [
      "rolling_sum_by_month = pd.rolling_sum(with_predictions['kw'], 12)"
     ],
     "language": "python",
     "metadata": {},
     "outputs": [],
     "prompt_number": 96
    },
    {
     "cell_type": "code",
     "collapsed": false,
     "input": [
      "rolling_sum_prior_month = rolling_sum_by_month[:-1]\n",
      "rolling_sum_prior_month.index = rolling_sum_by_month.index[1:]"
     ],
     "language": "python",
     "metadata": {},
     "outputs": [],
     "prompt_number": 105
    },
    {
     "cell_type": "code",
     "collapsed": false,
     "input": [
      "with_predictions['sumof_14_to_last'] = rolling_sum_prior_month"
     ],
     "language": "python",
     "metadata": {},
     "outputs": [],
     "prompt_number": 110
    },
    {
     "cell_type": "code",
     "collapsed": false,
     "input": [],
     "language": "python",
     "metadata": {},
     "outputs": [],
     "prompt_number": 110
    },
    {
     "cell_type": "code",
     "collapsed": false,
     "input": [
      "for_export = with_predictions.ix[datetime.date(2013, 1, 31):][['kw', 'sumof_14_to_last', 'real']]"
     ],
     "language": "python",
     "metadata": {},
     "outputs": [],
     "prompt_number": 114
    },
    {
     "cell_type": "code",
     "collapsed": false,
     "input": [
      "for_export"
     ],
     "language": "python",
     "metadata": {},
     "outputs": [
      {
       "html": [
        "<div style=\"max-height:1000px;max-width:1500px;overflow:auto;\">\n",
        "<table border=\"1\" class=\"dataframe\">\n",
        "  <thead>\n",
        "    <tr style=\"text-align: right;\">\n",
        "      <th></th>\n",
        "      <th>kw</th>\n",
        "      <th>sumof_14_to_last</th>\n",
        "      <th>real</th>\n",
        "    </tr>\n",
        "    <tr>\n",
        "      <th>date</th>\n",
        "      <th></th>\n",
        "      <th></th>\n",
        "      <th></th>\n",
        "    </tr>\n",
        "  </thead>\n",
        "  <tbody>\n",
        "    <tr>\n",
        "      <th>2013-01-31</th>\n",
        "      <td> 274672.490000</td>\n",
        "      <td> 7604142.654000</td>\n",
        "      <td> 1</td>\n",
        "    </tr>\n",
        "    <tr>\n",
        "      <th>2013-02-28</th>\n",
        "      <td> 211214.688000</td>\n",
        "      <td> 7362233.341000</td>\n",
        "      <td> 1</td>\n",
        "    </tr>\n",
        "    <tr>\n",
        "      <th>2013-03-31</th>\n",
        "      <td> 290469.980000</td>\n",
        "      <td> 7343529.392000</td>\n",
        "      <td> 1</td>\n",
        "    </tr>\n",
        "    <tr>\n",
        "      <th>2013-04-30</th>\n",
        "      <td> 367716.683000</td>\n",
        "      <td> 6411229.415000</td>\n",
        "      <td> 1</td>\n",
        "    </tr>\n",
        "    <tr>\n",
        "      <th>2013-05-31</th>\n",
        "      <td> 344225.112000</td>\n",
        "      <td> 6419948.134000</td>\n",
        "      <td> 1</td>\n",
        "    </tr>\n",
        "    <tr>\n",
        "      <th>2013-06-30</th>\n",
        "      <td> 309240.409000</td>\n",
        "      <td> 6509941.024000</td>\n",
        "      <td> 1</td>\n",
        "    </tr>\n",
        "    <tr>\n",
        "      <th>2013-07-31</th>\n",
        "      <td> 313005.673000</td>\n",
        "      <td> 5028260.093000</td>\n",
        "      <td> 1</td>\n",
        "    </tr>\n",
        "    <tr>\n",
        "      <th>2013-08-31</th>\n",
        "      <td> 291639.153000</td>\n",
        "      <td> 4798040.563000</td>\n",
        "      <td> 1</td>\n",
        "    </tr>\n",
        "    <tr>\n",
        "      <th>2013-09-30</th>\n",
        "      <td> 290894.124000</td>\n",
        "      <td> 4760246.944000</td>\n",
        "      <td> 1</td>\n",
        "    </tr>\n",
        "    <tr>\n",
        "      <th>2013-10-31</th>\n",
        "      <td> 225957.184000</td>\n",
        "      <td> 4070311.609000</td>\n",
        "      <td> 1</td>\n",
        "    </tr>\n",
        "    <tr>\n",
        "      <th>2013-11-30</th>\n",
        "      <td> 218751.176000</td>\n",
        "      <td> 3684412.729000</td>\n",
        "      <td> 1</td>\n",
        "    </tr>\n",
        "    <tr>\n",
        "      <th>2013-12-31</th>\n",
        "      <td> 166022.597000</td>\n",
        "      <td> 3467889.005000</td>\n",
        "      <td> 1</td>\n",
        "    </tr>\n",
        "    <tr>\n",
        "      <th>2014-01-31</th>\n",
        "      <td> 193446.650000</td>\n",
        "      <td> 3303809.269000</td>\n",
        "      <td> 1</td>\n",
        "    </tr>\n",
        "    <tr>\n",
        "      <th>2014-02-28</th>\n",
        "      <td> 110414.503000</td>\n",
        "      <td> 3222583.429000</td>\n",
        "      <td> 1</td>\n",
        "    </tr>\n",
        "    <tr>\n",
        "      <th>2014-03-31</th>\n",
        "      <td> 155805.032000</td>\n",
        "      <td> 3121783.244000</td>\n",
        "      <td> 1</td>\n",
        "    </tr>\n",
        "    <tr>\n",
        "      <th>2014-04-30</th>\n",
        "      <td> 163001.385000</td>\n",
        "      <td> 2987118.296000</td>\n",
        "      <td> 1</td>\n",
        "    </tr>\n",
        "    <tr>\n",
        "      <th>2014-05-31</th>\n",
        "      <td> 204036.298000</td>\n",
        "      <td> 2782402.998000</td>\n",
        "      <td> 1</td>\n",
        "    </tr>\n",
        "    <tr>\n",
        "      <th>2014-06-30</th>\n",
        "      <td> 188579.062000</td>\n",
        "      <td> 2642214.184000</td>\n",
        "      <td> 1</td>\n",
        "    </tr>\n",
        "    <tr>\n",
        "      <th>2014-07-31</th>\n",
        "      <td> 201692.776801</td>\n",
        "      <td> 2521552.837000</td>\n",
        "      <td> 0</td>\n",
        "    </tr>\n",
        "    <tr>\n",
        "      <th>2014-08-31</th>\n",
        "      <td> 178540.370417</td>\n",
        "      <td> 2410239.940801</td>\n",
        "      <td> 0</td>\n",
        "    </tr>\n",
        "    <tr>\n",
        "      <th>2014-09-30</th>\n",
        "      <td> 156950.459600</td>\n",
        "      <td> 2297141.158218</td>\n",
        "      <td> 0</td>\n",
        "    </tr>\n",
        "    <tr>\n",
        "      <th>2014-10-31</th>\n",
        "      <td> 155048.423998</td>\n",
        "      <td> 2163197.493818</td>\n",
        "      <td> 0</td>\n",
        "    </tr>\n",
        "    <tr>\n",
        "      <th>2014-11-30</th>\n",
        "      <td> 158070.969391</td>\n",
        "      <td> 2092288.733816</td>\n",
        "      <td> 0</td>\n",
        "    </tr>\n",
        "    <tr>\n",
        "      <th>2014-12-31</th>\n",
        "      <td> 214080.830107</td>\n",
        "      <td> 2031608.527206</td>\n",
        "      <td> 0</td>\n",
        "    </tr>\n",
        "  </tbody>\n",
        "</table>\n",
        "<p>24 rows \u00d7 3 columns</p>\n",
        "</div>"
       ],
       "metadata": {},
       "output_type": "pyout",
       "prompt_number": 115,
       "text": [
        "                       kw  sumof_14_to_last  real\n",
        "date                                             \n",
        "2013-01-31  274672.490000    7604142.654000     1\n",
        "2013-02-28  211214.688000    7362233.341000     1\n",
        "2013-03-31  290469.980000    7343529.392000     1\n",
        "2013-04-30  367716.683000    6411229.415000     1\n",
        "2013-05-31  344225.112000    6419948.134000     1\n",
        "2013-06-30  309240.409000    6509941.024000     1\n",
        "2013-07-31  313005.673000    5028260.093000     1\n",
        "2013-08-31  291639.153000    4798040.563000     1\n",
        "2013-09-30  290894.124000    4760246.944000     1\n",
        "2013-10-31  225957.184000    4070311.609000     1\n",
        "2013-11-30  218751.176000    3684412.729000     1\n",
        "2013-12-31  166022.597000    3467889.005000     1\n",
        "2014-01-31  193446.650000    3303809.269000     1\n",
        "2014-02-28  110414.503000    3222583.429000     1\n",
        "2014-03-31  155805.032000    3121783.244000     1\n",
        "2014-04-30  163001.385000    2987118.296000     1\n",
        "2014-05-31  204036.298000    2782402.998000     1\n",
        "2014-06-30  188579.062000    2642214.184000     1\n",
        "2014-07-31  201692.776801    2521552.837000     0\n",
        "2014-08-31  178540.370417    2410239.940801     0\n",
        "2014-09-30  156950.459600    2297141.158218     0\n",
        "2014-10-31  155048.423998    2163197.493818     0\n",
        "2014-11-30  158070.969391    2092288.733816     0\n",
        "2014-12-31  214080.830107    2031608.527206     0\n",
        "\n",
        "[24 rows x 3 columns]"
       ]
      }
     ],
     "prompt_number": 115
    },
    {
     "cell_type": "code",
     "collapsed": false,
     "input": [
      "for_export.to_csv('exp_data/per_month_total_rolling_sum.csv')"
     ],
     "language": "python",
     "metadata": {},
     "outputs": [],
     "prompt_number": 116
    },
    {
     "cell_type": "code",
     "collapsed": false,
     "input": [],
     "language": "python",
     "metadata": {},
     "outputs": [],
     "prompt_number": 69
    },
    {
     "cell_type": "code",
     "collapsed": false,
     "input": [],
     "language": "python",
     "metadata": {},
     "outputs": []
    }
   ],
   "metadata": {}
  }
 ]
}