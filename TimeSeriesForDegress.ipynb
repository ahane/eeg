{
 "metadata": {
  "name": "",
  "signature": "sha256:ab3a92ef7730304f13badd7dcc7f12a4e4d714409719cccc7a111d48b3084dff"
 },
 "nbformat": 3,
 "nbformat_minor": 0,
 "worksheets": [
  {
   "cells": [
    {
     "cell_type": "code",
     "collapsed": false,
     "input": [
      "import pandas as pd\n",
      "import numpy as np\n",
      "from pandas import DataFrame\n",
      "from collections import Counter\n",
      "from datetime import datetime\n",
      "import calendar as cal\n",
      "%pylab inline"
     ],
     "language": "python",
     "metadata": {},
     "outputs": [
      {
       "output_type": "stream",
       "stream": "stdout",
       "text": [
        "Populating the interactive namespace from numpy and matplotlib\n"
       ]
      },
      {
       "output_type": "stream",
       "stream": "stderr",
       "text": [
        "WARNING: pylab import has clobbered these variables: ['datetime']\n",
        "`%matplotlib` prevents importing * from pylab and numpy\n"
       ]
      }
     ],
     "prompt_number": 1
    },
    {
     "cell_type": "code",
     "collapsed": false,
     "input": [
      "import pickle\n",
      "with open('all_pv.df.pick', 'r') as f:\n",
      "    all_pv = pickle.load(f)"
     ],
     "language": "python",
     "metadata": {},
     "outputs": [],
     "prompt_number": 2
    },
    {
     "cell_type": "code",
     "collapsed": false,
     "input": [
      "total_by_month = all_pv[['year', 'month', 'kw']].groupby(['year', 'month']).agg(np.sum).reset_index()"
     ],
     "language": "python",
     "metadata": {},
     "outputs": [],
     "prompt_number": 3
    },
    {
     "cell_type": "code",
     "collapsed": false,
     "input": [],
     "language": "python",
     "metadata": {},
     "outputs": []
    },
    {
     "cell_type": "markdown",
     "metadata": {},
     "source": [
      "We create naive predictions"
     ]
    },
    {
     "cell_type": "code",
     "collapsed": false,
     "input": [
      "total_by_month['real'] = 1"
     ],
     "language": "python",
     "metadata": {},
     "outputs": [],
     "prompt_number": 6
    },
    {
     "cell_type": "code",
     "collapsed": false,
     "input": [
      "last_real_month = np.array(total_by_month['month'])[-1]\n",
      "last_real_kw = np.array(total_by_month['kw'])[-1]\n",
      "curr_year = np.array(total_by_month['year'])[-1]\n",
      "this_year_std = total_by_month[total_by_month['year'] == curr_year]['kw'].std()\n",
      "future_vals = []\n",
      "for month in range(last_real_month+1, 12+1):\n",
      "    kw_last_year = total_by_month['kw']\n",
      "    next_kw = last_real_kw + (2*this_year_std*(random.random()-0.5))\n",
      "    future_vals.append((curr_year, month, next_kw, 0)) #the 0 signifies that it is a prediction\n",
      "future_df = DataFrame(future_vals, columns=['year', 'month', 'kw', 'real'])"
     ],
     "language": "python",
     "metadata": {},
     "outputs": [],
     "prompt_number": 8
    },
    {
     "cell_type": "code",
     "collapsed": false,
     "input": [
      "with_predictions = pd.concat([total_by_month, future_df], axis=0)"
     ],
     "language": "python",
     "metadata": {},
     "outputs": [],
     "prompt_number": 9
    },
    {
     "cell_type": "markdown",
     "metadata": {},
     "source": [
      "We parse the date"
     ]
    },
    {
     "cell_type": "code",
     "collapsed": false,
     "input": [
      "def row_to_date(row):\n",
      "    year, month = int(row['year']), int(row['month'])\n",
      "    return datetime.date(year, month, cal.monthrange(year, month)[1])"
     ],
     "language": "python",
     "metadata": {},
     "outputs": [],
     "prompt_number": 10
    },
    {
     "cell_type": "code",
     "collapsed": false,
     "input": [
      "with_predictions['date'] = with_predictions.apply(row_to_date , axis=1)\n",
      "with_predictions.index = with_predictions['date']"
     ],
     "language": "python",
     "metadata": {},
     "outputs": [],
     "prompt_number": 11
    },
    {
     "cell_type": "markdown",
     "metadata": {},
     "source": [
      "We add the 12-month rolling sum"
     ]
    },
    {
     "cell_type": "code",
     "collapsed": false,
     "input": [
      "rolling_sum_by_month = pd.rolling_sum(with_predictions['kw'], 12)"
     ],
     "language": "python",
     "metadata": {},
     "outputs": [],
     "prompt_number": 12
    },
    {
     "cell_type": "code",
     "collapsed": false,
     "input": [
      "#if we want to shift the rolling sum to show the value relevant for degression\n",
      "#rolling_sum_prior_month = rolling_sum_by_month[:-1]\n",
      "#rolling_sum_prior_month.index = rolling_sum_by_month.index[1:]\n",
      "#with_predictions['sumof_14_to_last'] = rolling_sum_prior_month"
     ],
     "language": "python",
     "metadata": {},
     "outputs": [],
     "prompt_number": 55
    },
    {
     "cell_type": "code",
     "collapsed": false,
     "input": [
      "with_predictions['past_12_months'] = rolling_sum_by_month"
     ],
     "language": "python",
     "metadata": {},
     "outputs": [],
     "prompt_number": 13
    },
    {
     "cell_type": "markdown",
     "metadata": {},
     "source": [
      "We add the absolute kw cumulative sum"
     ]
    },
    {
     "cell_type": "code",
     "collapsed": false,
     "input": [
      "#from http://www.bundesnetzagentur.de/cln_1432/DE/Sachgebiete/ElektrizitaetundGas/Unternehmen_Institutionen/ErneuerbareEnergien/Photovoltaik/DatenMeldgn_EEG-VergSaetze/DatenMeldgn_EEG-VergSaetze_node.html\n",
      "total_prior_2009 = 6120000\n",
      "with_predictions['absolute_kw'] = with_predictions['kw'].cumsum() + total_prior_2009\n"
     ],
     "language": "python",
     "metadata": {},
     "outputs": [],
     "prompt_number": 14
    },
    {
     "cell_type": "markdown",
     "metadata": {},
     "source": [
      "We chose what to export as csv for our visualization"
     ]
    },
    {
     "cell_type": "code",
     "collapsed": false,
     "input": [
      "for_export = with_predictions.ix[datetime.date(2013, 1, 31):][['kw', 'past_12_months', 'absolute_kw', 'real']]"
     ],
     "language": "python",
     "metadata": {},
     "outputs": [],
     "prompt_number": 18
    },
    {
     "cell_type": "code",
     "collapsed": false,
     "input": [
      "for_export"
     ],
     "language": "python",
     "metadata": {},
     "outputs": [
      {
       "html": [
        "<div style=\"max-height:1000px;max-width:1500px;overflow:auto;\">\n",
        "<table border=\"1\" class=\"dataframe\">\n",
        "  <thead>\n",
        "    <tr style=\"text-align: right;\">\n",
        "      <th></th>\n",
        "      <th>kw</th>\n",
        "      <th>past_12_months</th>\n",
        "      <th>absolute_kw</th>\n",
        "      <th>real</th>\n",
        "    </tr>\n",
        "    <tr>\n",
        "      <th>date</th>\n",
        "      <th></th>\n",
        "      <th></th>\n",
        "      <th></th>\n",
        "      <th></th>\n",
        "    </tr>\n",
        "  </thead>\n",
        "  <tbody>\n",
        "    <tr>\n",
        "      <th>2013-01-31</th>\n",
        "      <td> 274672.490000</td>\n",
        "      <td> 7362233.341000</td>\n",
        "      <td> 32663296.582000</td>\n",
        "      <td> 1</td>\n",
        "    </tr>\n",
        "    <tr>\n",
        "      <th>2013-02-28</th>\n",
        "      <td> 211214.688000</td>\n",
        "      <td> 7343529.392000</td>\n",
        "      <td> 32874511.270000</td>\n",
        "      <td> 1</td>\n",
        "    </tr>\n",
        "    <tr>\n",
        "      <th>2013-03-31</th>\n",
        "      <td> 290469.980000</td>\n",
        "      <td> 6411229.415000</td>\n",
        "      <td> 33164981.250000</td>\n",
        "      <td> 1</td>\n",
        "    </tr>\n",
        "    <tr>\n",
        "      <th>2013-04-30</th>\n",
        "      <td> 367716.683000</td>\n",
        "      <td> 6419948.134000</td>\n",
        "      <td> 33532697.933000</td>\n",
        "      <td> 1</td>\n",
        "    </tr>\n",
        "    <tr>\n",
        "      <th>2013-05-31</th>\n",
        "      <td> 344225.112000</td>\n",
        "      <td> 6509941.024000</td>\n",
        "      <td> 33876923.045000</td>\n",
        "      <td> 1</td>\n",
        "    </tr>\n",
        "    <tr>\n",
        "      <th>2013-06-30</th>\n",
        "      <td> 309240.409000</td>\n",
        "      <td> 5028260.093000</td>\n",
        "      <td> 34186163.454000</td>\n",
        "      <td> 1</td>\n",
        "    </tr>\n",
        "    <tr>\n",
        "      <th>2013-07-31</th>\n",
        "      <td> 313005.673000</td>\n",
        "      <td> 4798040.563000</td>\n",
        "      <td> 34499169.127000</td>\n",
        "      <td> 1</td>\n",
        "    </tr>\n",
        "    <tr>\n",
        "      <th>2013-08-31</th>\n",
        "      <td> 291639.153000</td>\n",
        "      <td> 4760246.944000</td>\n",
        "      <td> 34790808.280000</td>\n",
        "      <td> 1</td>\n",
        "    </tr>\n",
        "    <tr>\n",
        "      <th>2013-09-30</th>\n",
        "      <td> 290894.124000</td>\n",
        "      <td> 4070311.609000</td>\n",
        "      <td> 35081702.404000</td>\n",
        "      <td> 1</td>\n",
        "    </tr>\n",
        "    <tr>\n",
        "      <th>2013-10-31</th>\n",
        "      <td> 225957.184000</td>\n",
        "      <td> 3684412.729000</td>\n",
        "      <td> 35307659.588000</td>\n",
        "      <td> 1</td>\n",
        "    </tr>\n",
        "    <tr>\n",
        "      <th>2013-11-30</th>\n",
        "      <td> 218751.176000</td>\n",
        "      <td> 3467889.005000</td>\n",
        "      <td> 35526410.764000</td>\n",
        "      <td> 1</td>\n",
        "    </tr>\n",
        "    <tr>\n",
        "      <th>2013-12-31</th>\n",
        "      <td> 166022.597000</td>\n",
        "      <td> 3303809.269000</td>\n",
        "      <td> 35692433.361000</td>\n",
        "      <td> 1</td>\n",
        "    </tr>\n",
        "    <tr>\n",
        "      <th>2014-01-31</th>\n",
        "      <td> 193446.650000</td>\n",
        "      <td> 3222583.429000</td>\n",
        "      <td> 35885880.011000</td>\n",
        "      <td> 1</td>\n",
        "    </tr>\n",
        "    <tr>\n",
        "      <th>2014-02-28</th>\n",
        "      <td> 110414.503000</td>\n",
        "      <td> 3121783.244000</td>\n",
        "      <td> 35996294.514000</td>\n",
        "      <td> 1</td>\n",
        "    </tr>\n",
        "    <tr>\n",
        "      <th>2014-03-31</th>\n",
        "      <td> 155805.032000</td>\n",
        "      <td> 2987118.296000</td>\n",
        "      <td> 36152099.546000</td>\n",
        "      <td> 1</td>\n",
        "    </tr>\n",
        "    <tr>\n",
        "      <th>2014-04-30</th>\n",
        "      <td> 163001.385000</td>\n",
        "      <td> 2782402.998000</td>\n",
        "      <td> 36315100.931000</td>\n",
        "      <td> 1</td>\n",
        "    </tr>\n",
        "    <tr>\n",
        "      <th>2014-05-31</th>\n",
        "      <td> 204036.298000</td>\n",
        "      <td> 2642214.184000</td>\n",
        "      <td> 36519137.229000</td>\n",
        "      <td> 1</td>\n",
        "    </tr>\n",
        "    <tr>\n",
        "      <th>2014-06-30</th>\n",
        "      <td> 188579.062000</td>\n",
        "      <td> 2521552.837000</td>\n",
        "      <td> 36707716.291000</td>\n",
        "      <td> 1</td>\n",
        "    </tr>\n",
        "    <tr>\n",
        "      <th>2014-07-31</th>\n",
        "      <td> 344685.099000</td>\n",
        "      <td> 2553232.263000</td>\n",
        "      <td> 37052401.390000</td>\n",
        "      <td> 1</td>\n",
        "    </tr>\n",
        "    <tr>\n",
        "      <th>2014-08-31</th>\n",
        "      <td> 334124.001185</td>\n",
        "      <td> 2595717.111185</td>\n",
        "      <td> 37386525.391185</td>\n",
        "      <td> 0</td>\n",
        "    </tr>\n",
        "    <tr>\n",
        "      <th>2014-09-30</th>\n",
        "      <td> 290308.274569</td>\n",
        "      <td> 2595131.261754</td>\n",
        "      <td> 37676833.665754</td>\n",
        "      <td> 0</td>\n",
        "    </tr>\n",
        "    <tr>\n",
        "      <th>2014-10-31</th>\n",
        "      <td> 401462.268892</td>\n",
        "      <td> 2770636.346646</td>\n",
        "      <td> 38078295.934646</td>\n",
        "      <td> 0</td>\n",
        "    </tr>\n",
        "    <tr>\n",
        "      <th>2014-11-30</th>\n",
        "      <td> 340194.944606</td>\n",
        "      <td> 2892080.115252</td>\n",
        "      <td> 38418490.879252</td>\n",
        "      <td> 0</td>\n",
        "    </tr>\n",
        "    <tr>\n",
        "      <th>2014-12-31</th>\n",
        "      <td> 310954.021262</td>\n",
        "      <td> 3037011.539514</td>\n",
        "      <td> 38729444.900514</td>\n",
        "      <td> 0</td>\n",
        "    </tr>\n",
        "  </tbody>\n",
        "</table>\n",
        "<p>24 rows \u00d7 4 columns</p>\n",
        "</div>"
       ],
       "metadata": {},
       "output_type": "pyout",
       "prompt_number": 16,
       "text": [
        "                       kw  past_12_months      absolute_kw  real\n",
        "date                                                            \n",
        "2013-01-31  274672.490000  7362233.341000  32663296.582000     1\n",
        "2013-02-28  211214.688000  7343529.392000  32874511.270000     1\n",
        "2013-03-31  290469.980000  6411229.415000  33164981.250000     1\n",
        "2013-04-30  367716.683000  6419948.134000  33532697.933000     1\n",
        "2013-05-31  344225.112000  6509941.024000  33876923.045000     1\n",
        "2013-06-30  309240.409000  5028260.093000  34186163.454000     1\n",
        "2013-07-31  313005.673000  4798040.563000  34499169.127000     1\n",
        "2013-08-31  291639.153000  4760246.944000  34790808.280000     1\n",
        "2013-09-30  290894.124000  4070311.609000  35081702.404000     1\n",
        "2013-10-31  225957.184000  3684412.729000  35307659.588000     1\n",
        "2013-11-30  218751.176000  3467889.005000  35526410.764000     1\n",
        "2013-12-31  166022.597000  3303809.269000  35692433.361000     1\n",
        "2014-01-31  193446.650000  3222583.429000  35885880.011000     1\n",
        "2014-02-28  110414.503000  3121783.244000  35996294.514000     1\n",
        "2014-03-31  155805.032000  2987118.296000  36152099.546000     1\n",
        "2014-04-30  163001.385000  2782402.998000  36315100.931000     1\n",
        "2014-05-31  204036.298000  2642214.184000  36519137.229000     1\n",
        "2014-06-30  188579.062000  2521552.837000  36707716.291000     1\n",
        "2014-07-31  344685.099000  2553232.263000  37052401.390000     1\n",
        "2014-08-31  334124.001185  2595717.111185  37386525.391185     0\n",
        "2014-09-30  290308.274569  2595131.261754  37676833.665754     0\n",
        "2014-10-31  401462.268892  2770636.346646  38078295.934646     0\n",
        "2014-11-30  340194.944606  2892080.115252  38418490.879252     0\n",
        "2014-12-31  310954.021262  3037011.539514  38729444.900514     0\n",
        "\n",
        "[24 rows x 4 columns]"
       ]
      }
     ],
     "prompt_number": 16
    },
    {
     "cell_type": "code",
     "collapsed": false,
     "input": [
      "for_export.to_csv('exp_data/per_month_total_rolling_sum.csv')"
     ],
     "language": "python",
     "metadata": {},
     "outputs": [],
     "prompt_number": 19
    },
    {
     "cell_type": "code",
     "collapsed": false,
     "input": [
      "for_export_ts = with_predictions.ix[datetime.date(2009, 1, 31):datetime.date(2014, 7, 3)][['kw', 'past_12_months', 'absolute_kw']]\n",
      "for_export_ts.to_csv('exp_data/kw_rolling_abs_no_pred.csv')\n",
      "\n"
     ],
     "language": "python",
     "metadata": {},
     "outputs": [],
     "prompt_number": 62
    },
    {
     "cell_type": "code",
     "collapsed": false,
     "input": [],
     "language": "python",
     "metadata": {},
     "outputs": [],
     "prompt_number": 21
    }
   ],
   "metadata": {}
  }
 ]
}